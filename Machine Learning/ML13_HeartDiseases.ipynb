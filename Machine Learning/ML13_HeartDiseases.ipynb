{
 "cells": [
  {
   "cell_type": "code",
   "execution_count": 1,
   "metadata": {
    "collapsed": false
   },
   "outputs": [
    {
     "name": "stdout",
     "output_type": "stream",
     "text": [
      "types\r\n",
      "  age          float64\n",
      "sex          float64\n",
      "pain         float64\n",
      "BP           float64\n",
      "chol         float64\n",
      "fbs          float64\n",
      "ecg          float64\n",
      "maxhr        float64\n",
      "eiang        float64\n",
      "eist         float64\n",
      "slope        float64\n",
      "vessels       object\n",
      "thal          object\n",
      "diagnosis      int64\n",
      "dtype: object\n",
      "\r\n",
      "mean, std, minimum and maximum value\r\n",
      "                age         sex        pain          BP        chol         fbs  \\\n",
      "count  302.000000  302.000000  302.000000  302.000000  302.000000  302.000000   \n",
      "mean    54.410596    0.678808    3.165563  131.645695  246.738411    0.145695   \n",
      "std      9.040163    0.467709    0.953612   17.612202   51.856829    0.353386   \n",
      "min     29.000000    0.000000    1.000000   94.000000  126.000000    0.000000   \n",
      "25%     48.000000    0.000000    3.000000  120.000000  211.000000    0.000000   \n",
      "50%     55.500000    1.000000    3.000000  130.000000  241.500000    0.000000   \n",
      "75%     61.000000    1.000000    4.000000  140.000000  275.000000    0.000000   \n",
      "max     77.000000    1.000000    4.000000  200.000000  564.000000    1.000000   \n",
      "\n",
      "              ecg       maxhr       eiang        eist       slope   diagnosis  \n",
      "count  302.000000  302.000000  302.000000  302.000000  302.000000  302.000000  \n",
      "mean     0.986755  149.605960    0.327815    1.035430    1.596026    0.940397  \n",
      "std      0.994916   22.912959    0.470196    1.160723    0.611939    1.229384  \n",
      "min      0.000000   71.000000    0.000000    0.000000    1.000000    0.000000  \n",
      "25%      0.000000  133.250000    0.000000    0.000000    1.000000    0.000000  \n",
      "50%      0.500000  153.000000    0.000000    0.800000    2.000000    0.000000  \n",
      "75%      2.000000  166.000000    1.000000    1.600000    2.000000    2.000000  \n",
      "max      2.000000  202.000000    1.000000    6.200000    3.000000    4.000000  \n",
      "\n",
      "change vessels and thal columns to floats\n"
     ]
    }
   ],
   "source": [
    "import pandas as pd\n",
    "from sklearn import cross_validation \n",
    "from sklearn.cross_validation import KFold\n",
    "%matplotlib inline\n",
    "data_url = 'http://archive.ics.uci.edu/ml/machine-learning-databases/heart-disease/processed.cleveland.data'\n",
    "\n",
    "df_heart = pd.read_csv(data_url)\n",
    "# Changing the NUM column to Diagnosis and assigning hearders to our data\n",
    "df_heart.columns = ['age','sex','pain','BP','chol','fbs','ecg','maxhr','eiang','eist','slope','vessels','thal','diagnosis']\n",
    "\n",
    "\n",
    "print('types\\r\\n ',df_heart.dtypes)\n",
    "print('\\r\\nmean, std, minimum and maximum value\\r\\n ',df_heart.describe())\n",
    "\n",
    "print('\\nchange vessels and thal columns to floats')"
   ]
  },
  {
   "cell_type": "code",
   "execution_count": 2,
   "metadata": {
    "collapsed": false
   },
   "outputs": [
    {
     "data": {
      "text/html": [
       "<div>\n",
       "<table border=\"1\" class=\"dataframe\">\n",
       "  <thead>\n",
       "    <tr style=\"text-align: right;\">\n",
       "      <th></th>\n",
       "      <th>age</th>\n",
       "      <th>sex</th>\n",
       "      <th>pain</th>\n",
       "      <th>BP</th>\n",
       "      <th>chol</th>\n",
       "      <th>fbs</th>\n",
       "      <th>ecg</th>\n",
       "      <th>maxhr</th>\n",
       "      <th>eiang</th>\n",
       "      <th>eist</th>\n",
       "      <th>slope</th>\n",
       "      <th>vessels</th>\n",
       "      <th>thal</th>\n",
       "      <th>diagnosis</th>\n",
       "    </tr>\n",
       "  </thead>\n",
       "  <tbody>\n",
       "    <tr>\n",
       "      <th>0</th>\n",
       "      <td>67</td>\n",
       "      <td>1</td>\n",
       "      <td>4</td>\n",
       "      <td>160</td>\n",
       "      <td>286</td>\n",
       "      <td>0</td>\n",
       "      <td>2</td>\n",
       "      <td>108</td>\n",
       "      <td>1</td>\n",
       "      <td>1.5</td>\n",
       "      <td>2</td>\n",
       "      <td>3.0</td>\n",
       "      <td>3.0</td>\n",
       "      <td>2</td>\n",
       "    </tr>\n",
       "    <tr>\n",
       "      <th>1</th>\n",
       "      <td>67</td>\n",
       "      <td>1</td>\n",
       "      <td>4</td>\n",
       "      <td>120</td>\n",
       "      <td>229</td>\n",
       "      <td>0</td>\n",
       "      <td>2</td>\n",
       "      <td>129</td>\n",
       "      <td>1</td>\n",
       "      <td>2.6</td>\n",
       "      <td>2</td>\n",
       "      <td>2.0</td>\n",
       "      <td>7.0</td>\n",
       "      <td>1</td>\n",
       "    </tr>\n",
       "    <tr>\n",
       "      <th>2</th>\n",
       "      <td>37</td>\n",
       "      <td>1</td>\n",
       "      <td>3</td>\n",
       "      <td>130</td>\n",
       "      <td>250</td>\n",
       "      <td>0</td>\n",
       "      <td>0</td>\n",
       "      <td>187</td>\n",
       "      <td>0</td>\n",
       "      <td>3.5</td>\n",
       "      <td>3</td>\n",
       "      <td>0.0</td>\n",
       "      <td>3.0</td>\n",
       "      <td>0</td>\n",
       "    </tr>\n",
       "    <tr>\n",
       "      <th>3</th>\n",
       "      <td>41</td>\n",
       "      <td>0</td>\n",
       "      <td>2</td>\n",
       "      <td>130</td>\n",
       "      <td>204</td>\n",
       "      <td>0</td>\n",
       "      <td>2</td>\n",
       "      <td>172</td>\n",
       "      <td>0</td>\n",
       "      <td>1.4</td>\n",
       "      <td>1</td>\n",
       "      <td>0.0</td>\n",
       "      <td>3.0</td>\n",
       "      <td>0</td>\n",
       "    </tr>\n",
       "    <tr>\n",
       "      <th>4</th>\n",
       "      <td>56</td>\n",
       "      <td>1</td>\n",
       "      <td>2</td>\n",
       "      <td>120</td>\n",
       "      <td>236</td>\n",
       "      <td>0</td>\n",
       "      <td>0</td>\n",
       "      <td>178</td>\n",
       "      <td>0</td>\n",
       "      <td>0.8</td>\n",
       "      <td>1</td>\n",
       "      <td>0.0</td>\n",
       "      <td>3.0</td>\n",
       "      <td>0</td>\n",
       "    </tr>\n",
       "  </tbody>\n",
       "</table>\n",
       "</div>"
      ],
      "text/plain": [
       "   age  sex  pain   BP  chol  fbs  ecg  maxhr  eiang  eist  slope vessels  \\\n",
       "0   67    1     4  160   286    0    2    108      1   1.5      2     3.0   \n",
       "1   67    1     4  120   229    0    2    129      1   2.6      2     2.0   \n",
       "2   37    1     3  130   250    0    0    187      0   3.5      3     0.0   \n",
       "3   41    0     2  130   204    0    2    172      0   1.4      1     0.0   \n",
       "4   56    1     2  120   236    0    0    178      0   0.8      1     0.0   \n",
       "\n",
       "  thal  diagnosis  \n",
       "0  3.0          2  \n",
       "1  7.0          1  \n",
       "2  3.0          0  \n",
       "3  3.0          0  \n",
       "4  3.0          0  "
      ]
     },
     "execution_count": 2,
     "metadata": {},
     "output_type": "execute_result"
    }
   ],
   "source": [
    "# Representation of the data\n",
    "df_heart.head()"
   ]
  },
  {
   "cell_type": "code",
   "execution_count": 3,
   "metadata": {
    "collapsed": false
   },
   "outputs": [
    {
     "data": {
      "text/plain": [
       "age          float64\n",
       "sex          float64\n",
       "pain         float64\n",
       "BP           float64\n",
       "chol         float64\n",
       "fbs          float64\n",
       "ecg          float64\n",
       "maxhr        float64\n",
       "eiang        float64\n",
       "eist         float64\n",
       "slope        float64\n",
       "vessels       object\n",
       "thal          object\n",
       "diagnosis      int64\n",
       "dtype: object"
      ]
     },
     "execution_count": 3,
     "metadata": {},
     "output_type": "execute_result"
    }
   ],
   "source": [
    "df_heart.dtypes"
   ]
  },
  {
   "cell_type": "markdown",
   "metadata": {},
   "source": [
    " We can see clearly that thal and diagnosis do not the same types as the other attributes"
   ]
  },
  {
   "cell_type": "markdown",
   "metadata": {},
   "source": [
    "# Converting it into float "
   ]
  },
  {
   "cell_type": "code",
   "execution_count": 5,
   "metadata": {
    "collapsed": false
   },
   "outputs": [
    {
     "name": "stderr",
     "output_type": "stream",
     "text": [
      "C:\\Users\\Ngabo\\Anaconda2\\lib\\site-packages\\ipykernel\\__main__.py:2: FutureWarning: convert_objects is deprecated.  Use the data-type specific converters pd.to_datetime, pd.to_timedelta and pd.to_numeric.\n",
      "  from ipykernel import kernelapp as app\n"
     ]
    },
    {
     "data": {
      "text/html": [
       "<div>\n",
       "<table border=\"1\" class=\"dataframe\">\n",
       "  <thead>\n",
       "    <tr style=\"text-align: right;\">\n",
       "      <th></th>\n",
       "      <th>age</th>\n",
       "      <th>sex</th>\n",
       "      <th>pain</th>\n",
       "      <th>BP</th>\n",
       "      <th>chol</th>\n",
       "      <th>fbs</th>\n",
       "      <th>ecg</th>\n",
       "      <th>maxhr</th>\n",
       "      <th>eiang</th>\n",
       "      <th>eist</th>\n",
       "      <th>slope</th>\n",
       "      <th>vessels</th>\n",
       "      <th>thal</th>\n",
       "      <th>diagnosis</th>\n",
       "    </tr>\n",
       "  </thead>\n",
       "  <tbody>\n",
       "    <tr>\n",
       "      <th>0</th>\n",
       "      <td>67</td>\n",
       "      <td>1</td>\n",
       "      <td>4</td>\n",
       "      <td>160</td>\n",
       "      <td>286</td>\n",
       "      <td>0</td>\n",
       "      <td>2</td>\n",
       "      <td>108</td>\n",
       "      <td>1</td>\n",
       "      <td>1.5</td>\n",
       "      <td>2</td>\n",
       "      <td>3</td>\n",
       "      <td>3</td>\n",
       "      <td>2</td>\n",
       "    </tr>\n",
       "    <tr>\n",
       "      <th>1</th>\n",
       "      <td>67</td>\n",
       "      <td>1</td>\n",
       "      <td>4</td>\n",
       "      <td>120</td>\n",
       "      <td>229</td>\n",
       "      <td>0</td>\n",
       "      <td>2</td>\n",
       "      <td>129</td>\n",
       "      <td>1</td>\n",
       "      <td>2.6</td>\n",
       "      <td>2</td>\n",
       "      <td>2</td>\n",
       "      <td>7</td>\n",
       "      <td>1</td>\n",
       "    </tr>\n",
       "    <tr>\n",
       "      <th>2</th>\n",
       "      <td>37</td>\n",
       "      <td>1</td>\n",
       "      <td>3</td>\n",
       "      <td>130</td>\n",
       "      <td>250</td>\n",
       "      <td>0</td>\n",
       "      <td>0</td>\n",
       "      <td>187</td>\n",
       "      <td>0</td>\n",
       "      <td>3.5</td>\n",
       "      <td>3</td>\n",
       "      <td>0</td>\n",
       "      <td>3</td>\n",
       "      <td>0</td>\n",
       "    </tr>\n",
       "    <tr>\n",
       "      <th>3</th>\n",
       "      <td>41</td>\n",
       "      <td>0</td>\n",
       "      <td>2</td>\n",
       "      <td>130</td>\n",
       "      <td>204</td>\n",
       "      <td>0</td>\n",
       "      <td>2</td>\n",
       "      <td>172</td>\n",
       "      <td>0</td>\n",
       "      <td>1.4</td>\n",
       "      <td>1</td>\n",
       "      <td>0</td>\n",
       "      <td>3</td>\n",
       "      <td>0</td>\n",
       "    </tr>\n",
       "    <tr>\n",
       "      <th>4</th>\n",
       "      <td>56</td>\n",
       "      <td>1</td>\n",
       "      <td>2</td>\n",
       "      <td>120</td>\n",
       "      <td>236</td>\n",
       "      <td>0</td>\n",
       "      <td>0</td>\n",
       "      <td>178</td>\n",
       "      <td>0</td>\n",
       "      <td>0.8</td>\n",
       "      <td>1</td>\n",
       "      <td>0</td>\n",
       "      <td>3</td>\n",
       "      <td>0</td>\n",
       "    </tr>\n",
       "  </tbody>\n",
       "</table>\n",
       "</div>"
      ],
      "text/plain": [
       "   age  sex  pain   BP  chol  fbs  ecg  maxhr  eiang  eist  slope  vessels  \\\n",
       "0   67    1     4  160   286    0    2    108      1   1.5      2        3   \n",
       "1   67    1     4  120   229    0    2    129      1   2.6      2        2   \n",
       "2   37    1     3  130   250    0    0    187      0   3.5      3        0   \n",
       "3   41    0     2  130   204    0    2    172      0   1.4      1        0   \n",
       "4   56    1     2  120   236    0    0    178      0   0.8      1        0   \n",
       "\n",
       "   thal  diagnosis  \n",
       "0     3          2  \n",
       "1     7          1  \n",
       "2     3          0  \n",
       "3     3          0  \n",
       "4     3          0  "
      ]
     },
     "execution_count": 5,
     "metadata": {},
     "output_type": "execute_result"
    }
   ],
   "source": [
    "df_heart = df_heart.dropna()\n",
    "df_heart = df_heart.convert_objects(convert_numeric=True)\n",
    "df_heart.head(5)"
   ]
  },
  {
   "cell_type": "code",
   "execution_count": 6,
   "metadata": {
    "collapsed": false
   },
   "outputs": [
    {
     "data": {
      "text/plain": [
       "age          float64\n",
       "sex          float64\n",
       "pain         float64\n",
       "BP           float64\n",
       "chol         float64\n",
       "fbs          float64\n",
       "ecg          float64\n",
       "maxhr        float64\n",
       "eiang        float64\n",
       "eist         float64\n",
       "slope        float64\n",
       "vessels      float64\n",
       "thal         float64\n",
       "diagnosis      int64\n",
       "dtype: object"
      ]
     },
     "execution_count": 6,
     "metadata": {},
     "output_type": "execute_result"
    }
   ],
   "source": [
    "# Lets check if the problem is fixed now\n",
    "df_heart.dtypes"
   ]
  },
  {
   "cell_type": "markdown",
   "metadata": {},
   "source": [
    "# Data Set Information\n",
    "A number of attributes are listed that possibly influence heart diseases. The presence of heart disease in the patient is an integer valued from 0 (no presence) to 4. "
   ]
  },
  {
   "cell_type": "markdown",
   "metadata": {},
   "source": [
    "# Applying Kmeans algorithm"
   ]
  },
  {
   "cell_type": "code",
   "execution_count": 26,
   "metadata": {
    "collapsed": false
   },
   "outputs": [
    {
     "data": {
      "image/png": "[encoded data removed]",
      "text/plain": [
       "<matplotlib.figure.Figure at 0x1d3be588>"
      ]
     },
     "metadata": {},
     "output_type": "display_data"
    }
   ],
   "source": [
    "from sklearn.cluster import KMeans\n",
    "from sklearn.metrics import confusion_matrix\n",
    "import matplotlib.pyplot as plt\n",
    "\n",
    "\n",
    "x_heart=df_heart[['age', 'sex', 'cp', 'trestbps', 'chol', 'fbs', 'restecg', 'thalach', 'exang', 'oldpeak', 'slope', 'ca', 'thal']]\n",
    "\n",
    "Y_target=df_heart['diagnosis']\n",
    "\n",
    "#Implementation of the kmean algorithm\n",
    "\n",
    "\n",
    "est = KMeans(n_clusters=3,random_state=30)\n",
    "Y_target = est.fit_predict(x_heart)\n",
    "\n",
    "plt.scatter(x_heart[:,0], x_heart[:,4], c=Y_target, s=50, cmap='rainbow');\n",
    "plt.show()"
   ]
  },
  {
   "cell_type": "code",
   "execution_count": 27,
   "metadata": {
    "collapsed": false
   },
   "outputs": [
    {
     "data": {
      "image/png": "[encoded data removed]",
      "text/plain": [
       "<matplotlib.figure.Figure at 0x1da6bc18>"
      ]
     },
     "metadata": {},
     "output_type": "display_data"
    }
   ],
   "source": [
    "#Confusion matrix to see how the prediction went\n",
    "labels = [x+1 for x in est.labels_]\n",
    "plt.imshow(confusion_matrix(Y_target, labels), cmap='Greens', interpolation='nearest')\n",
    "plt.colorbar()\n",
    "plt.grid(False)\n",
    "plt.ylabel('true')\n",
    "plt.xlabel('predicted');"
   ]
  },
  {
   "cell_type": "markdown",
   "metadata": {},
   "source": [
    "# Second Algorithm\n",
    "\n",
    "Prediction to which class it belongs\n",
    "Using prediction algorithm\n",
    "\n",
    "I am going to try to predict which according to a chosen randomly data which will tell us is the person has a heart deseas \n"
   ]
  },
  {
   "cell_type": "code",
   "execution_count": 147,
   "metadata": {
    "collapsed": false
   },
   "outputs": [
    {
     "name": "stdout",
     "output_type": "stream",
     "text": [
      "the diagnose is 2\n"
     ]
    },
    {
     "name": "stderr",
     "output_type": "stream",
     "text": [
      "C:\\Users\\Ngabo\\Anaconda2\\lib\\site-packages\\sklearn\\utils\\validation.py:386: DeprecationWarning: Passing 1d arrays as data is deprecated in 0.17 and willraise ValueError in 0.19. Reshape your data either using X.reshape(-1, 1) if your data has a single feature or X.reshape(1, -1) if it contains a single sample.\n",
      "  DeprecationWarning)\n"
     ]
    }
   ],
   "source": [
    "y = est.predict([56,1,2,120,236,0,0,178,0,0.8,1,0,3,0])\n",
    "real_class = y[0]\n",
    "print('the diagnose is ' + str(real_class))"
   ]
  },
  {
   "cell_type": "code",
   "execution_count": 29,
   "metadata": {
    "collapsed": false
   },
   "outputs": [
    {
     "name": "stdout",
     "output_type": "stream",
     "text": [
      "((222, 14), (222L,))\n"
     ]
    }
   ],
   "source": [
    "from sklearn.cross_validation import train_test_split\n",
    "\n",
    "X_train, X_test, y_train, y_test = train_test_split(df_heart, Y_target, test_size=0.25, random_state=33)\n",
    "print(X_train.shape, y_train.shape)"
   ]
  },
  {
   "cell_type": "code",
   "execution_count": 30,
   "metadata": {
    "collapsed": true
   },
   "outputs": [],
   "source": [
    "# Now, we can create a new DecisionTreeClassifier and use the fit method of the classifier to do the learning job.\n",
    "from sklearn import tree\n",
    "\n",
    "clf = tree.DecisionTreeClassifier(criterion = 'entropy', max_depth = 3, min_samples_leaf = 14)\n",
    "clf = clf.fit(X_train, y_train)"
   ]
  },
  {
   "cell_type": "code",
   "execution_count": 31,
   "metadata": {
    "collapsed": false
   },
   "outputs": [
    {
     "name": "stdout",
     "output_type": "stream",
     "text": [
      "[[ 0.16222623  0.69282032 -1.24320014 -0.07440111 -0.50410559 -0.37990775\n",
      "   0.96026942  0.58905046 -0.72872113 -0.90469984 -1.00328139 -0.73598007\n",
      "   1.13708991 -0.79458607]\n",
      " [ 1.63450583  0.69282032 -0.20172681  0.49712297  0.12578995 -0.37990775\n",
      "   0.96026942 -0.1658142  -0.72872113  0.82224224  0.58763624  2.4060887\n",
      "   1.13708991  0.78039703]\n",
      " [ 1.7477581   0.69282032  0.83974651  0.78288501 -1.40122953 -0.37990775\n",
      "  -1.05086087 -1.09829408  1.37226706  1.34032487  2.17855387 -0.73598007\n",
      "   1.13708991  2.35538014]\n",
      " [ 0.04897396  0.69282032  0.83974651  1.64017113  0.79386097 -0.37990775\n",
      "   0.96026942 -0.21021801  1.37226706 -0.21392301  0.58763624  0.31137618\n",
      "   1.13708991  2.35538014]\n",
      " [ 0.38873079  0.69282032 -0.20172681 -1.10314445 -0.3323159  -0.37990775\n",
      "   0.96026942  0.67785807 -0.72872113  1.25397776  0.58763624  0.31137618\n",
      "   1.13708991  2.35538014]]\n"
     ]
    }
   ],
   "source": [
    "from sklearn.preprocessing import StandardScaler\n",
    "\n",
    "# Standarize the features\n",
    "scaler = StandardScaler().fit(X_train)\n",
    "X_train = scaler.transform(X_train)\n",
    "X_test = scaler.transform(X_test)\n",
    "printone = X_train[:5,:]\n",
    "print(printone)"
   ]
  },
  {
   "cell_type": "code",
   "execution_count": 32,
   "metadata": {
    "collapsed": false
   },
   "outputs": [
    {
     "name": "stdout",
     "output_type": "stream",
     "text": [
      "[[ -9.91264015e+00   4.10633193e+00   2.71380368e+00  -1.45213146e+01\n",
      "   -1.48404782e+02   1.28668884e-01  -7.81775474e+00   2.49997708e+00\n",
      "   -2.24369624e+00   1.26183129e+01   3.39795904e-01   3.08705213e+00\n",
      "    5.72170535e+00  -3.46484307e+00]\n",
      " [ -5.31189794e+00   8.21266386e-01  -1.26792467e+00   7.36075376e-01\n",
      "    1.01157727e+02  -1.23522129e+01  -1.23709526e+01   4.76000947e+00\n",
      "    1.21159597e+00   1.75940814e+00  -2.44653051e+00   6.57676324e+00\n",
      "    5.21555449e+00  -7.16516091e+00]\n",
      " [ -5.28287118e+00   6.29637562e+00   1.55710047e-01   1.61216376e+01\n",
      "    1.80062360e+01   5.27542426e+00   2.75339604e+01  -3.51002093e+00\n",
      "   -1.72764611e+01  -1.28506876e+01   1.39316321e+01   7.38208119e+00\n",
      "    7.41621040e+00  -1.68196266e-01]]\n",
      "[-71.53863852 -89.88392117  20.84318782]\n"
     ]
    }
   ],
   "source": [
    "from sklearn.linear_model import SGDClassifier\n",
    "clf = SGDClassifier()\n",
    "\n",
    "clf.fit(X_train, y_train)\n",
    "\n",
    "print(clf.coef_)\n",
    "print(clf.intercept_)"
   ]
  },
  {
   "cell_type": "code",
   "execution_count": 33,
   "metadata": {
    "collapsed": false
   },
   "outputs": [
    {
     "name": "stdout",
     "output_type": "stream",
     "text": [
      "0.837837837838\n"
     ]
    }
   ],
   "source": [
    "from sklearn import metrics\n",
    "y_pred = clf.predict(X_test)\n",
    "print(metrics.accuracy_score(y_test, y_pred))"
   ]
  },
  {
   "cell_type": "code",
   "execution_count": 36,
   "metadata": {
    "collapsed": false
   },
   "outputs": [
    {
     "name": "stdout",
     "output_type": "stream",
     "text": [
      "This patients has been daignosed with: 2\n"
     ]
    },
    {
     "name": "stderr",
     "output_type": "stream",
     "text": [
      "C:\\Users\\Ngabo\\Anaconda2\\lib\\site-packages\\sklearn\\utils\\validation.py:386: DeprecationWarning: Passing 1d arrays as data is deprecated in 0.17 and willraise ValueError in 0.19. Reshape your data either using X.reshape(-1, 1) if your data has a single feature or X.reshape(1, -1) if it contains a single sample.\n",
      "  DeprecationWarning)\n"
     ]
    }
   ],
   "source": [
    "#Prediction using kmean\n",
    "y = est.predict([67,1,4,160,286,0,2,108,1,1.5,2,3,3,2])\n",
    "real_class = y[0]\n",
    "print('This patients has been daignosed with: ' + str(real_class))"
   ]
  },
  {
   "cell_type": "code",
   "execution_count": 39,
   "metadata": {
    "collapsed": false
   },
   "outputs": [
    {
     "name": "stdout",
     "output_type": "stream",
     "text": [
      "The patient has been daignose with2.\n"
     ]
    },
    {
     "name": "stderr",
     "output_type": "stream",
     "text": [
      "C:\\Users\\Ngabo\\Anaconda2\\lib\\site-packages\\sklearn\\utils\\validation.py:386: DeprecationWarning: Passing 1d arrays as data is deprecated in 0.17 and willraise ValueError in 0.19. Reshape your data either using X.reshape(-1, 1) if your data has a single feature or X.reshape(1, -1) if it contains a single sample.\n",
      "  DeprecationWarning)\n"
     ]
    }
   ],
   "source": [
    "#Prediction using randomforest\n",
    "from sklearn.ensemble import RandomForestClassifier\n",
    "\n",
    "real_clf = RandomForestClassifier(n_estimators=60, max_features=1, random_state=0)\n",
    "real_clf = real_clf.fit(df_heart, Y_target)\n",
    "\n",
    "y = real_clf.predict([67,1,4,160,286,0,2,108,1,1.5,2,3,3,2])\n",
    "print('The patient has been daignose with' + str(y[0]) + '.')"
   ]
  },
  {
   "cell_type": "code",
   "execution_count": 40,
   "metadata": {
    "collapsed": false
   },
   "outputs": [
    {
     "name": "stdout",
     "output_type": "stream",
     "text": [
      "('Accuracy:0.838', '\\n')\n",
      "Confusion matrix\n",
      "(array([[24,  0,  2],\n",
      "       [ 0,  7,  7],\n",
      "       [ 2,  1, 31]]), '\\n')\n"
     ]
    }
   ],
   "source": [
    "# First define a helper function to measure the performance of The classifier:\n",
    "from sklearn import metrics\n",
    "\n",
    "def measure_performance(X, y, clf, show_accuracy=True, show_classification_report=True, show_confusion_matrix=True):\n",
    "    y_pred = clf.predict(X)\n",
    "    if show_accuracy:\n",
    "        print(\"Accuracy:{0:.3f}\".format(metrics.accuracy_score(y, y_pred)),\"\\n\")\n",
    "\n",
    "    if show_classification_report:\n",
    "        print(\"Classification report\")\n",
    "        print(metrics.classification_report(y,y_pred),\"\\n\")\n",
    "\n",
    "    if show_confusion_matrix:\n",
    "        print(\"Confusion matrix\")\n",
    "        print(metrics.confusion_matrix(y,y_pred),\"\\n\")\n",
    "        \n",
    "# And call this method for the training data (display only accuracy)\n",
    "measure_performance(X_test, y_test, clf, show_classification_report=False, show_confusion_matrix=True)"
   ]
  },
  {
   "cell_type": "code",
   "execution_count": null,
   "metadata": {
    "collapsed": true
   },
   "outputs": [],
   "source": []
  }
 ],
 "metadata": {
  "kernelspec": {
   "display_name": "Python 3",
   "language": "python",
   "name": "python3"
  },
  "language_info": {
   "codemirror_mode": {
    "name": "ipython",
    "version": 3
   },
   "file_extension": ".py",
   "mimetype": "text/x-python",
   "name": "python",
   "nbconvert_exporter": "python",
   "pygments_lexer": "ipython3",
   "version": "3.4.3"
  }
 },
 "nbformat": 4,
 "nbformat_minor": 0
}
