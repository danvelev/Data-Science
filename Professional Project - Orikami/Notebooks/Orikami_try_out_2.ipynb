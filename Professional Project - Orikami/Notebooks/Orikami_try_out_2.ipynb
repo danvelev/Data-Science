{
 "cells": [
  {
   "cell_type": "code",
   "execution_count": 2,
   "metadata": {
    "collapsed": false
   },
   "outputs": [
    {
     "data": {
      "text/html": [
       "<div>\n",
       "<table border=\"1\" class=\"dataframe\">\n",
       "  <thead>\n",
       "    <tr style=\"text-align: right;\">\n",
       "      <th></th>\n",
       "      <th>_id</th>\n",
       "      <th>artist</th>\n",
       "      <th>title</th>\n",
       "      <th>created_at</th>\n",
       "    </tr>\n",
       "  </thead>\n",
       "  <tbody>\n",
       "    <tr>\n",
       "      <th>0</th>\n",
       "      <td>592237952748679168</td>\n",
       "      <td>[\"Teresa Jenee'\"]</td>\n",
       "      <td>Remember (Kaytronic dub)</td>\n",
       "      <td>Sun Apr 26 08:05:05 +0000 2015</td>\n",
       "    </tr>\n",
       "    <tr>\n",
       "      <th>1</th>\n",
       "      <td>591878930283520000</td>\n",
       "      <td>[\"Teresa Jenee'\"]</td>\n",
       "      <td>Remember (Kaytronic dub)</td>\n",
       "      <td>Sat Apr 25 08:18:28 +0000 2015</td>\n",
       "    </tr>\n",
       "    <tr>\n",
       "      <th>2</th>\n",
       "      <td>591350191439142914</td>\n",
       "      <td>[\"Teresa Jenee'\"]</td>\n",
       "      <td>Remember (Kaytronic dub)</td>\n",
       "      <td>Thu Apr 23 21:17:27 +0000 2015</td>\n",
       "    </tr>\n",
       "    <tr>\n",
       "      <th>3</th>\n",
       "      <td>590979911940186112</td>\n",
       "      <td>[\"Teresa Jenee'\"]</td>\n",
       "      <td>Remember (Kaytronic dub)</td>\n",
       "      <td>Wed Apr 22 20:46:05 +0000 2015</td>\n",
       "    </tr>\n",
       "    <tr>\n",
       "      <th>4</th>\n",
       "      <td>590439221669863424</td>\n",
       "      <td>[\"Teresa Jenee'\"]</td>\n",
       "      <td>Remember (Kaytronic dub)</td>\n",
       "      <td>Tue Apr 21 08:57:34 +0000 2015</td>\n",
       "    </tr>\n",
       "  </tbody>\n",
       "</table>\n",
       "</div>"
      ],
      "text/plain": [
       "                  _id             artist                     title  \\\n",
       "0  592237952748679168  [\"Teresa Jenee'\"]  Remember (Kaytronic dub)   \n",
       "1  591878930283520000  [\"Teresa Jenee'\"]  Remember (Kaytronic dub)   \n",
       "2  591350191439142914  [\"Teresa Jenee'\"]  Remember (Kaytronic dub)   \n",
       "3  590979911940186112  [\"Teresa Jenee'\"]  Remember (Kaytronic dub)   \n",
       "4  590439221669863424  [\"Teresa Jenee'\"]  Remember (Kaytronic dub)   \n",
       "\n",
       "                       created_at  \n",
       "0  Sun Apr 26 08:05:05 +0000 2015  \n",
       "1  Sat Apr 25 08:18:28 +0000 2015  \n",
       "2  Thu Apr 23 21:17:27 +0000 2015  \n",
       "3  Wed Apr 22 20:46:05 +0000 2015  \n",
       "4  Tue Apr 21 08:57:34 +0000 2015  "
      ]
     },
     "execution_count": 2,
     "metadata": {},
     "output_type": "execute_result"
    }
   ],
   "source": [
    "import pymongo\n",
    "import numpy as np\n",
    "import pandas as pd\n",
    "import sklearn as sk\n",
    "import matplotlib\n",
    "import matplotlib.pyplot as plt\n",
    "import datetime\n",
    "\n",
    "#read data from csv\n",
    "df_songs = pd.read_csv(\"c:/ADS/Orikami/Teresa_Jenee_records.csv\", sep=',',engine='python')\n",
    "df_songs.head()"
   ]
  },
  {
   "cell_type": "code",
   "execution_count": 7,
   "metadata": {
    "collapsed": false
   },
   "outputs": [
    {
     "data": {
      "image/png": "[encoded data removed]",
      "text/plain": [
       "<matplotlib.figure.Figure at 0x2c1dc88>"
      ]
     },
     "metadata": {},
     "output_type": "display_data"
    }
   ],
   "source": [
    "%matplotlib inline\n",
    "from numpy.random import normal\n",
    "gaussian_numbers = normal(size=1000)\n",
    "plt.hist(gaussian_numbers)\n",
    "plt.title(\"Gaussian Histogram\")\n",
    "plt.xlabel(\"Value\")\n",
    "plt.ylabel(\"Frequency\")\n",
    "plt.show()"
   ]
  },
  {
   "cell_type": "code",
   "execution_count": null,
   "metadata": {
    "collapsed": true
   },
   "outputs": [],
   "source": []
  }
 ],
 "metadata": {
  "kernelspec": {
   "display_name": "Python 3",
   "language": "python",
   "name": "python3"
  },
  "language_info": {
   "codemirror_mode": {
    "name": "ipython",
    "version": 3
   },
   "file_extension": ".py",
   "mimetype": "text/x-python",
   "name": "python",
   "nbconvert_exporter": "python",
   "pygments_lexer": "ipython3",
   "version": "3.4.3"
  }
 },
 "nbformat": 4,
 "nbformat_minor": 0
}
