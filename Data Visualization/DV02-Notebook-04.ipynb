{
 "cells": [
  {
   "cell_type": "markdown",
   "metadata": {},
   "source": [
    "# Personal introduction\n",
    "by Dan Velev (d.velev@student.fontys.nl)\n",
    "\n",
    "## Summary\n",
    "The notebook gives a summary of the Week 2 Assignment 4 of Data Visualization, which is about creating a heat map based on votes for a particular professional task project.\n",
    "\n",
    "## Introduction\n",
    "Following the tutorial steps in ADS-DV Week 2 Assignment 4, I will develop a rank matching according to the group preferences. In this assignment I will practice some math and sorting functions. The result will be presented as a heatmap."
   ]
  },
  {
   "cell_type": "markdown",
   "metadata": {},
   "source": [
    "## Voting data\n",
    "First we will define the list of companies and professional task groups"
   ]
  },
  {
   "cell_type": "code",
   "execution_count": 2,
   "metadata": {
    "collapsed": false
   },
   "outputs": [],
   "source": [
    "companies = ('8Vance', 'Philips HC', 'PSV', 'Coosto', 'Orikami','Score','Heemskerk','Mirabeau')\n",
    "groups = ('TheTree','Team+','A-Team','Tim','Arwin','Wesley','Tom','Sander')"
   ]
  },
  {
   "cell_type": "markdown",
   "metadata": {},
   "source": [
    "Then we collect all group preferences for the companies."
   ]
  },
  {
   "cell_type": "code",
   "execution_count": 3,
   "metadata": {
    "collapsed": true
   },
   "outputs": [],
   "source": [
    "votes = [\n",
    "    (6,3,7,1,4,8,5,2),\n",
    "    (6,7,3,2,4,8,1,5),\n",
    "    (3,1,6,2,5,8,4,7),\n",
    "    (5,1,2,4,6,8,3,7),\n",
    "    (2,6,6,1,6,6,3,4),\n",
    "    (6,4,3,1,4,8,2,7),\n",
    "    (3,4,6,1,7,5,2,8),\n",
    "    (5,3,7,2,8,6,1,4)\n",
    "]"
   ]
  },
  {
   "cell_type": "markdown",
   "metadata": {},
   "source": [
    "We will need to put all the data into Pandas dataframe for easier manipulation."
   ]
  },
  {
   "cell_type": "code",
   "execution_count": 4,
   "metadata": {
    "collapsed": false
   },
   "outputs": [
    {
     "data": {
      "text/html": [
       "<div>\n",
       "<table border=\"1\" class=\"dataframe\">\n",
       "  <thead>\n",
       "    <tr style=\"text-align: right;\">\n",
       "      <th></th>\n",
       "      <th>8Vance</th>\n",
       "      <th>Philips HC</th>\n",
       "      <th>PSV</th>\n",
       "      <th>Coosto</th>\n",
       "      <th>Orikami</th>\n",
       "      <th>Score</th>\n",
       "      <th>Heemskerk</th>\n",
       "      <th>Mirabeau</th>\n",
       "    </tr>\n",
       "  </thead>\n",
       "  <tbody>\n",
       "    <tr>\n",
       "      <th>TheTree</th>\n",
       "      <td>6</td>\n",
       "      <td>3</td>\n",
       "      <td>7</td>\n",
       "      <td>1</td>\n",
       "      <td>4</td>\n",
       "      <td>8</td>\n",
       "      <td>5</td>\n",
       "      <td>2</td>\n",
       "    </tr>\n",
       "    <tr>\n",
       "      <th>Team+</th>\n",
       "      <td>6</td>\n",
       "      <td>7</td>\n",
       "      <td>3</td>\n",
       "      <td>2</td>\n",
       "      <td>4</td>\n",
       "      <td>8</td>\n",
       "      <td>1</td>\n",
       "      <td>5</td>\n",
       "    </tr>\n",
       "    <tr>\n",
       "      <th>A-Team</th>\n",
       "      <td>3</td>\n",
       "      <td>1</td>\n",
       "      <td>6</td>\n",
       "      <td>2</td>\n",
       "      <td>5</td>\n",
       "      <td>8</td>\n",
       "      <td>4</td>\n",
       "      <td>7</td>\n",
       "    </tr>\n",
       "    <tr>\n",
       "      <th>Tim</th>\n",
       "      <td>5</td>\n",
       "      <td>1</td>\n",
       "      <td>2</td>\n",
       "      <td>4</td>\n",
       "      <td>6</td>\n",
       "      <td>8</td>\n",
       "      <td>3</td>\n",
       "      <td>7</td>\n",
       "    </tr>\n",
       "    <tr>\n",
       "      <th>Arwin</th>\n",
       "      <td>2</td>\n",
       "      <td>6</td>\n",
       "      <td>6</td>\n",
       "      <td>1</td>\n",
       "      <td>6</td>\n",
       "      <td>6</td>\n",
       "      <td>3</td>\n",
       "      <td>4</td>\n",
       "    </tr>\n",
       "    <tr>\n",
       "      <th>Wesley</th>\n",
       "      <td>6</td>\n",
       "      <td>4</td>\n",
       "      <td>3</td>\n",
       "      <td>1</td>\n",
       "      <td>4</td>\n",
       "      <td>8</td>\n",
       "      <td>2</td>\n",
       "      <td>7</td>\n",
       "    </tr>\n",
       "    <tr>\n",
       "      <th>Tom</th>\n",
       "      <td>3</td>\n",
       "      <td>4</td>\n",
       "      <td>6</td>\n",
       "      <td>1</td>\n",
       "      <td>7</td>\n",
       "      <td>5</td>\n",
       "      <td>2</td>\n",
       "      <td>8</td>\n",
       "    </tr>\n",
       "    <tr>\n",
       "      <th>Sander</th>\n",
       "      <td>5</td>\n",
       "      <td>3</td>\n",
       "      <td>7</td>\n",
       "      <td>2</td>\n",
       "      <td>8</td>\n",
       "      <td>6</td>\n",
       "      <td>1</td>\n",
       "      <td>4</td>\n",
       "    </tr>\n",
       "  </tbody>\n",
       "</table>\n",
       "</div>"
      ],
      "text/plain": [
       "         8Vance  Philips HC  PSV  Coosto  Orikami  Score  Heemskerk  Mirabeau\n",
       "TheTree       6           3    7       1        4      8          5         2\n",
       "Team+         6           7    3       2        4      8          1         5\n",
       "A-Team        3           1    6       2        5      8          4         7\n",
       "Tim           5           1    2       4        6      8          3         7\n",
       "Arwin         2           6    6       1        6      6          3         4\n",
       "Wesley        6           4    3       1        4      8          2         7\n",
       "Tom           3           4    6       1        7      5          2         8\n",
       "Sander        5           3    7       2        8      6          1         4"
      ]
     },
     "execution_count": 4,
     "metadata": {},
     "output_type": "execute_result"
    }
   ],
   "source": [
    "import pandas as pd\n",
    "\n",
    "df = pd.DataFrame(votes, columns=companies, index=groups)\n",
    "df.head(8)"
   ]
  },
  {
   "cell_type": "markdown",
   "metadata": {},
   "source": [
    "## Ranking all possible matches\n",
    "We will use a ranked voting system. For every possible matching we compute the impopularity bu summing the ranking. But first, we will need to test 8! combinations, in order to see if it is feasible. "
   ]
  },
  {
   "cell_type": "code",
   "execution_count": 5,
   "metadata": {
    "collapsed": false
   },
   "outputs": [
    {
     "name": "stdout",
     "output_type": "stream",
     "text": [
      "40320\n"
     ]
    }
   ],
   "source": [
    "import math, itertools\n",
    "combinations = math.factorial(8)\n",
    "print(combinations)\n",
    "permutations = list(itertools.permutations(range(8)))"
   ]
  },
  {
   "cell_type": "markdown",
   "metadata": {},
   "source": [
    "Now we compute the impopularity score for each match by looping over all permutations, and store the score with each permutation."
   ]
  },
  {
   "cell_type": "code",
   "execution_count": 6,
   "metadata": {
    "collapsed": false
   },
   "outputs": [
    {
     "name": "stdout",
     "output_type": "stream",
     "text": [
      "((0, 1, 2, 3, 4, 5, 6, 7), 43)\n",
      "((0, 1, 2, 3, 4, 5, 7, 6), 46)\n",
      "((0, 1, 2, 3, 4, 6, 5, 7), 40)\n",
      "((0, 1, 2, 3, 4, 6, 7, 5), 45)\n",
      "((0, 1, 2, 3, 4, 7, 5, 6), 42)\n",
      "((0, 1, 2, 3, 4, 7, 6, 5), 44)\n",
      "((0, 1, 2, 3, 5, 4, 6, 7), 39)\n",
      "((0, 1, 2, 3, 5, 4, 7, 6), 42)\n",
      "((0, 1, 2, 3, 5, 6, 4, 7), 42)\n",
      "((0, 1, 2, 3, 5, 6, 7, 4), 47)\n"
     ]
    }
   ],
   "source": [
    "scores = []\n",
    "for permutation in permutations:\n",
    "    sum = 0\n",
    "    for group in range(8):\n",
    "        sum += df.iloc[group, permutation[group]]\n",
    "    scores.append((permutation, sum))\n",
    "    \n",
    "print('\\n'.join(map(str,scores[0:10])))"
   ]
  },
  {
   "cell_type": "markdown",
   "metadata": {},
   "source": [
    "We then sort the list on the impopularity score."
   ]
  },
  {
   "cell_type": "code",
   "execution_count": 7,
   "metadata": {
    "collapsed": false
   },
   "outputs": [
    {
     "name": "stdout",
     "output_type": "stream",
     "text": [
      "((7, 4, 1, 2, 0, 3, 5, 6), 18)\n",
      "((7, 3, 1, 2, 0, 4, 5, 6), 19)\n",
      "((7, 6, 1, 2, 0, 4, 3, 5), 19)\n",
      "((7, 6, 1, 2, 0, 4, 5, 3), 19)\n",
      "((3, 6, 1, 2, 0, 4, 5, 7), 20)\n",
      "((4, 6, 1, 2, 0, 3, 5, 7), 20)\n",
      "((7, 2, 0, 1, 3, 4, 5, 6), 20)\n",
      "((7, 2, 3, 1, 0, 4, 5, 6), 20)\n",
      "((7, 2, 4, 1, 0, 3, 5, 6), 20)\n",
      "((7, 4, 0, 1, 3, 2, 5, 6), 20)\n"
     ]
    }
   ],
   "source": [
    "sorted_scores = sorted(scores, key=lambda tup: tup[1]) # labmda - anonymus callable function\n",
    "print('\\n'.join(map(str,sorted_scores[0:10])))"
   ]
  },
  {
   "cell_type": "markdown",
   "metadata": {},
   "source": [
    "We now filter out all the matchings that have the same lowest score, ideally this will yield only one result."
   ]
  },
  {
   "cell_type": "code",
   "execution_count": 8,
   "metadata": {
    "collapsed": false
   },
   "outputs": [
    {
     "name": "stdout",
     "output_type": "stream",
     "text": [
      "((7, 4, 1, 2, 0, 3, 5, 6), 18)\n"
     ]
    }
   ],
   "source": [
    "best_scores = list(filter(lambda tup: tup[1] == sorted_scores[0][1], sorted_scores))\n",
    "print('\\n'.join(map(str, best_scores)))"
   ]
  },
  {
   "cell_type": "markdown",
   "metadata": {},
   "source": [
    "## Result\n",
    "Now we can convert our best matchings to a more human-readable form, by using the group and company names."
   ]
  },
  {
   "cell_type": "code",
   "execution_count": 9,
   "metadata": {
    "collapsed": false
   },
   "outputs": [
    {
     "name": "stdout",
     "output_type": "stream",
     "text": [
      "Option: ((7, 4, 1, 2, 0, 3, 5, 6), 18)\n",
      "=======================================\n",
      "TheTree\t\t\tMirabeau\n",
      "Team+\t\t\tOrikami\n",
      "A-Team\t\t\tPhilips HC\n",
      "Tim\t\t\tPSV\n",
      "Arwin\t\t\t8Vance\n",
      "Wesley\t\t\tCoosto\n",
      "Tom\t\t\tScore\n",
      "Sander\t\t\tHeemskerk\n",
      "\n",
      "\n"
     ]
    }
   ],
   "source": [
    "for score in best_scores:\n",
    "    print('Option: ' + str(score))\n",
    "    print('=======================================')\n",
    "    for group in range(8):\n",
    "        print(groups[group] + '\\t\\t\\t' + companies[score[0][group]])\n",
    "    print('\\n')"
   ]
  },
  {
   "cell_type": "markdown",
   "metadata": {},
   "source": [
    "## Visualizing \n",
    "Finally, we've got our result, so we want to show the votes in a heatmap. In addition we will use a scatter plot to plot the best score on the heat map."
   ]
  },
  {
   "cell_type": "code",
   "execution_count": 31,
   "metadata": {
    "collapsed": false
   },
   "outputs": [
    {
     "data": {
      "image/png": "[encoded data removed]",
      "text/plain": [
       "<matplotlib.figure.Figure at 0x78beac8>"
      ]
     },
     "metadata": {},
     "output_type": "display_data"
    }
   ],
   "source": [
    "import matplotlib.pyplot as plt\n",
    "import matplotlib\n",
    "import numpy as np\n",
    "%matplotlib inline\n",
    "\n",
    "fig, ax = plt.subplots(figsize=(8,6))\n",
    "\n",
    "ax.pcolor(df, cmap=plt.cm.Blues)\n",
    "\n",
    "ax.xaxis.tick_top()\n",
    "\n",
    "ax.set_yticks(np.arange(0.5, len(groups)))\n",
    "ax.set_yticklabels(groups, minor=False)\n",
    "ax.set_xticks(np.arange(0.5, len(companies)))\n",
    "ax.set_xticklabels(companies, minor=False)\n",
    "\n",
    "ax1 = fig.add_axes([0.95,0.75,0.3,0.15])\n",
    "cb1 = matplotlib.colorbar.ColorbarBase(ax1, orientation='horizontal', cmap=plt.cm.Blues)\n",
    "cb1.set_label('Scores')\n",
    "\n",
    "cb1.ax.set_yticklabels(best_scores)\n",
    "\n",
    "plt.show()"
   ]
  },
  {
   "cell_type": "code",
   "execution_count": null,
   "metadata": {
    "collapsed": true
   },
   "outputs": [],
   "source": []
  }
 ],
 "metadata": {
  "kernelspec": {
   "display_name": "Python 3",
   "language": "python",
   "name": "python3"
  },
  "language_info": {
   "codemirror_mode": {
    "name": "ipython",
    "version": 3
   },
   "file_extension": ".py",
   "mimetype": "text/x-python",
   "name": "python",
   "nbconvert_exporter": "python",
   "pygments_lexer": "ipython3",
   "version": "3.4.3"
  }
 },
 "nbformat": 4,
 "nbformat_minor": 0
}
