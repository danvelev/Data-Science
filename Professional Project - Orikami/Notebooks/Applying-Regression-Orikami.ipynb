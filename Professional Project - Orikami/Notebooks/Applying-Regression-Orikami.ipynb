{
 "cells": [
  {
   "cell_type": "code",
   "execution_count": 1,
   "metadata": {
    "collapsed": false
   },
   "outputs": [],
   "source": [
    "import numpy as np\n",
    "import pandas as pd\n",
    "import matplotlib.pyplot as plt\n",
    "import seaborn as sns\n",
    "%matplotlib inline"
   ]
  },
  {
   "cell_type": "code",
   "execution_count": 2,
   "metadata": {
    "collapsed": false
   },
   "outputs": [
    {
     "data": {
      "text/html": [
       "<div>\n",
       "<table border=\"1\" class=\"dataframe\">\n",
       "  <thead>\n",
       "    <tr style=\"text-align: right;\">\n",
       "      <th></th>\n",
       "      <th>_id</th>\n",
       "      <th>artist</th>\n",
       "      <th>title</th>\n",
       "      <th>mbid</th>\n",
       "    </tr>\n",
       "  </thead>\n",
       "  <tbody>\n",
       "    <tr>\n",
       "      <th>0</th>\n",
       "      <td>588008496911806467</td>\n",
       "      <td>['James Fortune &amp; FIYA']</td>\n",
       "      <td>Live Though It</td>\n",
       "      <td>3cd89446-1133-44ca-a012-226fd562e105</td>\n",
       "    </tr>\n",
       "    <tr>\n",
       "      <th>1</th>\n",
       "      <td>588008500317544449</td>\n",
       "      <td>['Wings']</td>\n",
       "      <td>Aku Pun Tahu</td>\n",
       "      <td>b265efb3-17ff-4d1e-a5c4-cdc3b6852003</td>\n",
       "    </tr>\n",
       "    <tr>\n",
       "      <th>2</th>\n",
       "      <td>588008500594401280</td>\n",
       "      <td>['This Eternal Cold']</td>\n",
       "      <td>Too Dead to Dream</td>\n",
       "      <td>43ce2582-4366-4e6d-ac06-8cacab50bea2</td>\n",
       "    </tr>\n",
       "    <tr>\n",
       "      <th>3</th>\n",
       "      <td>588008516163661824</td>\n",
       "      <td>['Solo']</td>\n",
       "      <td>Luv-All-Day</td>\n",
       "      <td>bd5790a1-0dc3-4eed-a4fb-3848b9738e35</td>\n",
       "    </tr>\n",
       "    <tr>\n",
       "      <th>4</th>\n",
       "      <td>588008523151335425</td>\n",
       "      <td>['Hurts']</td>\n",
       "      <td>Blood, Tears &amp; Gold (Lotus Eaters on My Mind r...</td>\n",
       "      <td>9c8da8a8-0a30-4930-ac9b-a1995b7bdfc2</td>\n",
       "    </tr>\n",
       "  </tbody>\n",
       "</table>\n",
       "</div>"
      ],
      "text/plain": [
       "                  _id                    artist  \\\n",
       "0  588008496911806467  ['James Fortune & FIYA']   \n",
       "1  588008500317544449                 ['Wings']   \n",
       "2  588008500594401280     ['This Eternal Cold']   \n",
       "3  588008516163661824                  ['Solo']   \n",
       "4  588008523151335425                 ['Hurts']   \n",
       "\n",
       "                                               title  \\\n",
       "0                                     Live Though It   \n",
       "1                                       Aku Pun Tahu   \n",
       "2                                  Too Dead to Dream   \n",
       "3                                        Luv-All-Day   \n",
       "4  Blood, Tears & Gold (Lotus Eaters on My Mind r...   \n",
       "\n",
       "                                   mbid  \n",
       "0  3cd89446-1133-44ca-a012-226fd562e105  \n",
       "1  b265efb3-17ff-4d1e-a5c4-cdc3b6852003  \n",
       "2  43ce2582-4366-4e6d-ac06-8cacab50bea2  \n",
       "3  bd5790a1-0dc3-4eed-a4fb-3848b9738e35  \n",
       "4  9c8da8a8-0a30-4930-ac9b-a1995b7bdfc2  "
      ]
     },
     "execution_count": 2,
     "metadata": {},
     "output_type": "execute_result"
    }
   ],
   "source": [
    "# loading the data set\n",
    "#MAKE SURE PATH IS GOOD!\n",
    "songs = pd.read_csv(\"D:\\\\Fontys Classes\\\\ADS\\\\Project\\\\songs_mbid_records.csv\", sep=',',engine='python')\n",
    "mentions = pd.read_csv(\"D:\\\\Fontys Classes\\\\ADS\\\\Project\\\\first_2k_songs_appended.csv\", sep=',',engine='python')\n",
    "\n",
    "songs.head(5)\n"
   ]
  },
  {
   "cell_type": "code",
   "execution_count": 3,
   "metadata": {
    "collapsed": false
   },
   "outputs": [],
   "source": [
    "# mentions_total = pd.DataFrame(columns=['artist', 'title', 'mbid', 'totalHits'])\n",
    "# i = 0\n",
    "# for index_s,row_s in songs.iterrows():\n",
    "    # total_mentions = 0\n",
    "    # if i == 2000:\n",
    "        # break;\n",
    "    # for index_m,row_m in mentions.iterrows():\n",
    "     #   if row_m['mbid'] == row_s['mbid']:\n",
    "           # total_mentions += row_m['mentions']\n",
    "            \n",
    "    # mentions_total.loc[i] = [row_s['artist'], row_s['title'], row_s['mbid'], total_mentions]\n",
    "    # i += 1\n",
    "        \n",
    "# mentions_total.head(5)"
   ]
  },
  {
   "cell_type": "code",
   "execution_count": null,
   "metadata": {
    "collapsed": false
   },
   "outputs": [],
   "source": []
  },
  {
   "cell_type": "code",
   "execution_count": 4,
   "metadata": {
    "collapsed": false
   },
   "outputs": [
    {
     "data": {
      "text/plain": [
       "mbid                                  day                \n",
       "00489b13-99b0-4159-9b29-31d199926a5e  2015-04-09             1\n",
       "                                      2015-04-09 00:00:00    0\n",
       "                                      2015-04-10 00:00:00    0\n",
       "                                      2015-04-11 00:00:00    0\n",
       "                                      2015-04-12 00:00:00    0\n",
       "                                      2015-04-13 00:00:00    0\n",
       "                                      2015-04-14             1\n",
       "                                      2015-04-14 00:00:00    0\n",
       "00832e6f-c3de-4ef2-af60-35f12d34d563  2015-04-14             1\n",
       "00bc7cfb-709c-4900-9e78-c420d937b1ad  2015-04-09             1\n",
       "                                      2015-04-10             0\n",
       "                                      2015-04-11             0\n",
       "                                      2015-04-12             0\n",
       "                                      2015-04-13             0\n",
       "                                      2015-04-14             1\n",
       "                                      2015-04-15             0\n",
       "                                      2015-04-16             0\n",
       "                                      2015-04-17             2\n",
       "00e96621-65ac-459b-ab67-8380ade6e726  2015-04-14             1\n",
       "00fab606-7d8c-4bdd-af99-494124f31274  2015-04-09             1\n",
       "Name: mentions, dtype: float64"
      ]
     },
     "execution_count": 4,
     "metadata": {},
     "output_type": "execute_result"
    }
   ],
   "source": [
    "total_mentions_per_day = mentions.groupby(['mbid', 'day'])['mentions'].sum()\n",
    "total_mentions_per_day.head(20)"
   ]
  },
  {
   "cell_type": "code",
   "execution_count": 5,
   "metadata": {
    "collapsed": false
   },
   "outputs": [
    {
     "name": "stdout",
     "output_type": "stream",
     "text": [
      "mbid        17288\n",
      "day         17288\n",
      "mentions    17288\n",
      "dtype: int64\n"
     ]
    }
   ],
   "source": [
    "sorted_dates = mentions.sort(['mbid','day'])\n",
    "sorted_dates.head(10)\n",
    "print(sorted_dates.count())\n"
   ]
  },
  {
   "cell_type": "code",
   "execution_count": 6,
   "metadata": {
    "collapsed": false
   },
   "outputs": [
    {
     "data": {
      "text/html": [
       "<div>\n",
       "<table border=\"1\" class=\"dataframe\">\n",
       "  <thead>\n",
       "    <tr style=\"text-align: right;\">\n",
       "      <th></th>\n",
       "      <th>mbid</th>\n",
       "      <th>day</th>\n",
       "      <th>mentions</th>\n",
       "    </tr>\n",
       "  </thead>\n",
       "  <tbody>\n",
       "    <tr>\n",
       "      <th>8639</th>\n",
       "      <td>00489b13-99b0-4159-9b29-31d199926a5e</td>\n",
       "      <td>2015-04-09</td>\n",
       "      <td>1</td>\n",
       "    </tr>\n",
       "    <tr>\n",
       "      <th>13919</th>\n",
       "      <td>00489b13-99b0-4159-9b29-31d199926a5e</td>\n",
       "      <td>2015-04-09 00:00:00</td>\n",
       "      <td>0</td>\n",
       "    </tr>\n",
       "    <tr>\n",
       "      <th>13920</th>\n",
       "      <td>00489b13-99b0-4159-9b29-31d199926a5e</td>\n",
       "      <td>2015-04-10 00:00:00</td>\n",
       "      <td>0</td>\n",
       "    </tr>\n",
       "    <tr>\n",
       "      <th>13921</th>\n",
       "      <td>00489b13-99b0-4159-9b29-31d199926a5e</td>\n",
       "      <td>2015-04-11 00:00:00</td>\n",
       "      <td>0</td>\n",
       "    </tr>\n",
       "    <tr>\n",
       "      <th>13922</th>\n",
       "      <td>00489b13-99b0-4159-9b29-31d199926a5e</td>\n",
       "      <td>2015-04-12 00:00:00</td>\n",
       "      <td>0</td>\n",
       "    </tr>\n",
       "  </tbody>\n",
       "</table>\n",
       "</div>"
      ],
      "text/plain": [
       "                                       mbid                  day  mentions\n",
       "8639   00489b13-99b0-4159-9b29-31d199926a5e           2015-04-09         1\n",
       "13919  00489b13-99b0-4159-9b29-31d199926a5e  2015-04-09 00:00:00         0\n",
       "13920  00489b13-99b0-4159-9b29-31d199926a5e  2015-04-10 00:00:00         0\n",
       "13921  00489b13-99b0-4159-9b29-31d199926a5e  2015-04-11 00:00:00         0\n",
       "13922  00489b13-99b0-4159-9b29-31d199926a5e  2015-04-12 00:00:00         0"
      ]
     },
     "execution_count": 6,
     "metadata": {},
     "output_type": "execute_result"
    }
   ],
   "source": [
    "sorted_dates.drop_duplicates(['day'])\n",
    "sorted_dates.head()"
   ]
  },
  {
   "cell_type": "code",
   "execution_count": 7,
   "metadata": {
    "collapsed": false
   },
   "outputs": [
    {
     "data": {
      "text/plain": [
       "mbid        17288\n",
       "day         17288\n",
       "mentions    17288\n",
       "dtype: int64"
      ]
     },
     "execution_count": 7,
     "metadata": {},
     "output_type": "execute_result"
    }
   ],
   "source": [
    "sorted_dates.count()"
   ]
  },
  {
   "cell_type": "code",
   "execution_count": 8,
   "metadata": {
    "collapsed": false
   },
   "outputs": [
    {
     "data": {
      "text/html": [
       "<div>\n",
       "<table border=\"1\" class=\"dataframe\">\n",
       "  <thead>\n",
       "    <tr style=\"text-align: right;\">\n",
       "      <th></th>\n",
       "      <th>mbid</th>\n",
       "      <th>day</th>\n",
       "      <th>mentions</th>\n",
       "    </tr>\n",
       "  </thead>\n",
       "  <tbody>\n",
       "    <tr>\n",
       "      <th>8639</th>\n",
       "      <td>00489b13-99b0-4159-9b29-31d199926a5e</td>\n",
       "      <td>2015-04-09</td>\n",
       "      <td>1</td>\n",
       "    </tr>\n",
       "    <tr>\n",
       "      <th>13919</th>\n",
       "      <td>00489b13-99b0-4159-9b29-31d199926a5e</td>\n",
       "      <td>2015-04-09</td>\n",
       "      <td>0</td>\n",
       "    </tr>\n",
       "    <tr>\n",
       "      <th>13920</th>\n",
       "      <td>00489b13-99b0-4159-9b29-31d199926a5e</td>\n",
       "      <td>2015-04-10</td>\n",
       "      <td>0</td>\n",
       "    </tr>\n",
       "    <tr>\n",
       "      <th>13921</th>\n",
       "      <td>00489b13-99b0-4159-9b29-31d199926a5e</td>\n",
       "      <td>2015-04-11</td>\n",
       "      <td>0</td>\n",
       "    </tr>\n",
       "    <tr>\n",
       "      <th>13922</th>\n",
       "      <td>00489b13-99b0-4159-9b29-31d199926a5e</td>\n",
       "      <td>2015-04-12</td>\n",
       "      <td>0</td>\n",
       "    </tr>\n",
       "    <tr>\n",
       "      <th>13923</th>\n",
       "      <td>00489b13-99b0-4159-9b29-31d199926a5e</td>\n",
       "      <td>2015-04-13</td>\n",
       "      <td>0</td>\n",
       "    </tr>\n",
       "    <tr>\n",
       "      <th>8640</th>\n",
       "      <td>00489b13-99b0-4159-9b29-31d199926a5e</td>\n",
       "      <td>2015-04-14</td>\n",
       "      <td>1</td>\n",
       "    </tr>\n",
       "    <tr>\n",
       "      <th>13924</th>\n",
       "      <td>00489b13-99b0-4159-9b29-31d199926a5e</td>\n",
       "      <td>2015-04-14</td>\n",
       "      <td>0</td>\n",
       "    </tr>\n",
       "    <tr>\n",
       "      <th>3600</th>\n",
       "      <td>00832e6f-c3de-4ef2-af60-35f12d34d563</td>\n",
       "      <td>2015-04-14</td>\n",
       "      <td>1</td>\n",
       "    </tr>\n",
       "    <tr>\n",
       "      <th>3743</th>\n",
       "      <td>00bc7cfb-709c-4900-9e78-c420d937b1ad</td>\n",
       "      <td>2015-04-09</td>\n",
       "      <td>1</td>\n",
       "    </tr>\n",
       "  </tbody>\n",
       "</table>\n",
       "</div>"
      ],
      "text/plain": [
       "                                       mbid        day  mentions\n",
       "8639   00489b13-99b0-4159-9b29-31d199926a5e 2015-04-09         1\n",
       "13919  00489b13-99b0-4159-9b29-31d199926a5e 2015-04-09         0\n",
       "13920  00489b13-99b0-4159-9b29-31d199926a5e 2015-04-10         0\n",
       "13921  00489b13-99b0-4159-9b29-31d199926a5e 2015-04-11         0\n",
       "13922  00489b13-99b0-4159-9b29-31d199926a5e 2015-04-12         0\n",
       "13923  00489b13-99b0-4159-9b29-31d199926a5e 2015-04-13         0\n",
       "8640   00489b13-99b0-4159-9b29-31d199926a5e 2015-04-14         1\n",
       "13924  00489b13-99b0-4159-9b29-31d199926a5e 2015-04-14         0\n",
       "3600   00832e6f-c3de-4ef2-af60-35f12d34d563 2015-04-14         1\n",
       "3743   00bc7cfb-709c-4900-9e78-c420d937b1ad 2015-04-09         1"
      ]
     },
     "execution_count": 8,
     "metadata": {},
     "output_type": "execute_result"
    }
   ],
   "source": [
    "sorted_dates['day'] = pd.to_datetime(sorted_dates['day'])\n",
    "sorted_dates.head(10)"
   ]
  },
  {
   "cell_type": "code",
   "execution_count": 9,
   "metadata": {
    "collapsed": false
   },
   "outputs": [
    {
     "data": {
      "text/html": [
       "<div>\n",
       "<table border=\"1\" class=\"dataframe\">\n",
       "  <thead>\n",
       "    <tr style=\"text-align: right;\">\n",
       "      <th></th>\n",
       "      <th>mbid</th>\n",
       "      <th>day</th>\n",
       "      <th>mentions</th>\n",
       "    </tr>\n",
       "  </thead>\n",
       "  <tbody>\n",
       "    <tr>\n",
       "      <th>2271</th>\n",
       "      <td>c6cf4924-75b7-40b3-8d66-f50ff8aec30e</td>\n",
       "      <td>2015-04-07</td>\n",
       "      <td>136</td>\n",
       "    </tr>\n",
       "    <tr>\n",
       "      <th>2270</th>\n",
       "      <td>c6cf4924-75b7-40b3-8d66-f50ff8aec30e</td>\n",
       "      <td>2015-04-08</td>\n",
       "      <td>433</td>\n",
       "    </tr>\n",
       "    <tr>\n",
       "      <th>2272</th>\n",
       "      <td>c6cf4924-75b7-40b3-8d66-f50ff8aec30e</td>\n",
       "      <td>2015-04-09</td>\n",
       "      <td>473</td>\n",
       "    </tr>\n",
       "    <tr>\n",
       "      <th>2273</th>\n",
       "      <td>c6cf4924-75b7-40b3-8d66-f50ff8aec30e</td>\n",
       "      <td>2015-04-10</td>\n",
       "      <td>387</td>\n",
       "    </tr>\n",
       "    <tr>\n",
       "      <th>2274</th>\n",
       "      <td>c6cf4924-75b7-40b3-8d66-f50ff8aec30e</td>\n",
       "      <td>2015-04-11</td>\n",
       "      <td>323</td>\n",
       "    </tr>\n",
       "  </tbody>\n",
       "</table>\n",
       "</div>"
      ],
      "text/plain": [
       "                                      mbid        day  mentions\n",
       "2271  c6cf4924-75b7-40b3-8d66-f50ff8aec30e 2015-04-07       136\n",
       "2270  c6cf4924-75b7-40b3-8d66-f50ff8aec30e 2015-04-08       433\n",
       "2272  c6cf4924-75b7-40b3-8d66-f50ff8aec30e 2015-04-09       473\n",
       "2273  c6cf4924-75b7-40b3-8d66-f50ff8aec30e 2015-04-10       387\n",
       "2274  c6cf4924-75b7-40b3-8d66-f50ff8aec30e 2015-04-11       323"
      ]
     },
     "execution_count": 9,
     "metadata": {},
     "output_type": "execute_result"
    }
   ],
   "source": [
    "import seaborn as sns\n",
    "\n",
    "one_song = sorted_dates[sorted_dates.mbid == 'c6cf4924-75b7-40b3-8d66-f50ff8aec30e']\n",
    "one_song.head()"
   ]
  },
  {
   "cell_type": "code",
   "execution_count": 10,
   "metadata": {
    "collapsed": false
   },
   "outputs": [
    {
     "data": {
      "text/plain": [
       "mbid                object\n",
       "day         datetime64[ns]\n",
       "mentions             int32\n",
       "dtype: object"
      ]
     },
     "execution_count": 10,
     "metadata": {},
     "output_type": "execute_result"
    }
   ],
   "source": [
    "sorted_dates.mentions = sorted_dates.mentions.astype(int)\n",
    "sorted_dates.dtypes"
   ]
  },
  {
   "cell_type": "code",
   "execution_count": 11,
   "metadata": {
    "collapsed": false
   },
   "outputs": [
    {
     "data": {
      "text/html": [
       "<div>\n",
       "<table border=\"1\" class=\"dataframe\">\n",
       "  <thead>\n",
       "    <tr style=\"text-align: right;\">\n",
       "      <th></th>\n",
       "      <th>mbid</th>\n",
       "      <th>day</th>\n",
       "      <th>mentions</th>\n",
       "    </tr>\n",
       "  </thead>\n",
       "  <tbody>\n",
       "    <tr>\n",
       "      <th>8639</th>\n",
       "      <td>00489b13-99b0-4159-9b29-31d199926a5e</td>\n",
       "      <td>9</td>\n",
       "      <td>1</td>\n",
       "    </tr>\n",
       "    <tr>\n",
       "      <th>13919</th>\n",
       "      <td>00489b13-99b0-4159-9b29-31d199926a5e</td>\n",
       "      <td>9</td>\n",
       "      <td>0</td>\n",
       "    </tr>\n",
       "    <tr>\n",
       "      <th>13920</th>\n",
       "      <td>00489b13-99b0-4159-9b29-31d199926a5e</td>\n",
       "      <td>10</td>\n",
       "      <td>0</td>\n",
       "    </tr>\n",
       "    <tr>\n",
       "      <th>13921</th>\n",
       "      <td>00489b13-99b0-4159-9b29-31d199926a5e</td>\n",
       "      <td>11</td>\n",
       "      <td>0</td>\n",
       "    </tr>\n",
       "    <tr>\n",
       "      <th>13922</th>\n",
       "      <td>00489b13-99b0-4159-9b29-31d199926a5e</td>\n",
       "      <td>12</td>\n",
       "      <td>0</td>\n",
       "    </tr>\n",
       "  </tbody>\n",
       "</table>\n",
       "</div>"
      ],
      "text/plain": [
       "                                       mbid  day  mentions\n",
       "8639   00489b13-99b0-4159-9b29-31d199926a5e    9         1\n",
       "13919  00489b13-99b0-4159-9b29-31d199926a5e    9         0\n",
       "13920  00489b13-99b0-4159-9b29-31d199926a5e   10         0\n",
       "13921  00489b13-99b0-4159-9b29-31d199926a5e   11         0\n",
       "13922  00489b13-99b0-4159-9b29-31d199926a5e   12         0"
      ]
     },
     "execution_count": 11,
     "metadata": {},
     "output_type": "execute_result"
    }
   ],
   "source": [
    "sorted_dates['day'] = sorted_dates['day'].map(lambda x: x.day)\n",
    "sorted_dates.head()\n"
   ]
  },
  {
   "cell_type": "code",
   "execution_count": 25,
   "metadata": {
    "collapsed": false
   },
   "outputs": [
    {
     "data": {
      "text/html": [
       "<div>\n",
       "<table border=\"1\" class=\"dataframe\">\n",
       "  <thead>\n",
       "    <tr style=\"text-align: right;\">\n",
       "      <th></th>\n",
       "      <th>mbid</th>\n",
       "      <th>day</th>\n",
       "      <th>mentions</th>\n",
       "    </tr>\n",
       "  </thead>\n",
       "  <tbody>\n",
       "    <tr>\n",
       "      <th>2271</th>\n",
       "      <td>c6cf4924-75b7-40b3-8d66-f50ff8aec30e</td>\n",
       "      <td>7</td>\n",
       "      <td>136</td>\n",
       "    </tr>\n",
       "    <tr>\n",
       "      <th>2270</th>\n",
       "      <td>c6cf4924-75b7-40b3-8d66-f50ff8aec30e</td>\n",
       "      <td>8</td>\n",
       "      <td>433</td>\n",
       "    </tr>\n",
       "    <tr>\n",
       "      <th>2272</th>\n",
       "      <td>c6cf4924-75b7-40b3-8d66-f50ff8aec30e</td>\n",
       "      <td>9</td>\n",
       "      <td>473</td>\n",
       "    </tr>\n",
       "    <tr>\n",
       "      <th>2273</th>\n",
       "      <td>c6cf4924-75b7-40b3-8d66-f50ff8aec30e</td>\n",
       "      <td>10</td>\n",
       "      <td>387</td>\n",
       "    </tr>\n",
       "    <tr>\n",
       "      <th>2274</th>\n",
       "      <td>c6cf4924-75b7-40b3-8d66-f50ff8aec30e</td>\n",
       "      <td>11</td>\n",
       "      <td>323</td>\n",
       "    </tr>\n",
       "  </tbody>\n",
       "</table>\n",
       "</div>"
      ],
      "text/plain": [
       "                                      mbid  day  mentions\n",
       "2271  c6cf4924-75b7-40b3-8d66-f50ff8aec30e    7       136\n",
       "2270  c6cf4924-75b7-40b3-8d66-f50ff8aec30e    8       433\n",
       "2272  c6cf4924-75b7-40b3-8d66-f50ff8aec30e    9       473\n",
       "2273  c6cf4924-75b7-40b3-8d66-f50ff8aec30e   10       387\n",
       "2274  c6cf4924-75b7-40b3-8d66-f50ff8aec30e   11       323"
      ]
     },
     "execution_count": 25,
     "metadata": {},
     "output_type": "execute_result"
    }
   ],
   "source": [
    "one_song = sorted_dates[sorted_dates.mbid == 'c6cf4924-75b7-40b3-8d66-f50ff8aec30e']\n",
    "one_song.head()"
   ]
  },
  {
   "cell_type": "code",
   "execution_count": 26,
   "metadata": {
    "collapsed": false
   },
   "outputs": [
    {
     "data": {
      "text/plain": [
       "<seaborn.axisgrid.FacetGrid at 0xb442358>"
      ]
     },
     "execution_count": 26,
     "metadata": {},
     "output_type": "execute_result"
    },
    {
     "data": {
      "image/png": "[encoded data removed]",
      "text/plain": [
       "<matplotlib.figure.Figure at 0xb469470>"
      ]
     },
     "metadata": {},
     "output_type": "display_data"
    }
   ],
   "source": [
    "# Visualize the possible regression line using seaborn\n",
    "sns.lmplot('day', 'mentions', data=one_song, ci=None)"
   ]
  },
  {
   "cell_type": "code",
   "execution_count": 14,
   "metadata": {
    "collapsed": false
   },
   "outputs": [
    {
     "name": "stdout",
     "output_type": "stream",
     "text": [
      "Slope: 3.327\n",
      "Intercept: 323.345\n"
     ]
    }
   ],
   "source": [
    "from sklearn.linear_model import LinearRegression\n",
    "\n",
    "X = one_song[['day']].values\n",
    "y = one_song['mentions'].values\n",
    "\n",
    "# Apply Regression to only one song\n",
    "\n",
    "slr = LinearRegression()\n",
    "slr.fit(X,y)\n",
    "print('Slope: %.3f' %slr.coef_[0])\n",
    "print('Intercept: %.3f' %slr.intercept_)"
   ]
  },
  {
   "cell_type": "code",
   "execution_count": 15,
   "metadata": {
    "collapsed": false
   },
   "outputs": [
    {
     "name": "stdout",
     "output_type": "stream",
     "text": [
      "Slope: 7.100\n",
      "Intercept: 159.527\n"
     ]
    }
   ],
   "source": [
    "one_song = sorted_dates[sorted_dates.mbid == '23ceb24d-eebd-43bb-8643-cdd5c00798af']\n",
    "\n",
    "X = one_song[['day']].values\n",
    "y = one_song['mentions'].values\n",
    "\n",
    "slr = LinearRegression()\n",
    "slr.fit(X,y)\n",
    "print('Slope: %.3f' %slr.coef_[0])\n",
    "print('Intercept: %.3f' %slr.intercept_)"
   ]
  },
  {
   "cell_type": "code",
   "execution_count": 16,
   "metadata": {
    "collapsed": false
   },
   "outputs": [
    {
     "data": {
      "text/plain": [
       "2000"
      ]
     },
     "execution_count": 16,
     "metadata": {},
     "output_type": "execute_result"
    }
   ],
   "source": [
    "grouped_mbid = sorted_dates.groupby(['mbid'])\n",
    "\n",
    "regs_songs = []     # will be used to store the regression models of each song\n",
    "mbid_slr = []       # \n",
    "\n",
    "# Applying Regression to the 2 000 songs\n",
    "for d,m in grouped_mbid:\n",
    "    one_song = sorted_dates[sorted_dates.mbid == d]\n",
    "    X = one_song[['day']].values\n",
    "    y = one_song['mentions'].values\n",
    "\n",
    "    slr = LinearRegression()\n",
    "    slr.fit(X,y)\n",
    "    regs_songs.append(slr)\n",
    "    mbid_slr.append([d,slr])\n",
    "    \n",
    "len(mbid_slr)"
   ]
  },
  {
   "cell_type": "code",
   "execution_count": 17,
   "metadata": {
    "collapsed": false
   },
   "outputs": [
    {
     "data": {
      "text/plain": [
       "2000"
      ]
     },
     "execution_count": 17,
     "metadata": {},
     "output_type": "execute_result"
    }
   ],
   "source": [
    "len(regs_songs)"
   ]
  },
  {
   "cell_type": "code",
   "execution_count": 18,
   "metadata": {
    "collapsed": false
   },
   "outputs": [
    {
     "data": {
      "text/plain": [
       "2000"
      ]
     },
     "execution_count": 18,
     "metadata": {},
     "output_type": "execute_result"
    }
   ],
   "source": [
    "counter = 0;\n",
    "inter_slope = []\n",
    "\n",
    "for slr in regs_songs:\n",
    "        inter_slope.append([slr.coef_[0], slr.intercept_])\n",
    "\n",
    "len(inter_slope)"
   ]
  },
  {
   "cell_type": "code",
   "execution_count": 19,
   "metadata": {
    "collapsed": false
   },
   "outputs": [
    {
     "data": {
      "text/html": [
       "<div>\n",
       "<table border=\"1\" class=\"dataframe\">\n",
       "  <thead>\n",
       "    <tr style=\"text-align: right;\">\n",
       "      <th></th>\n",
       "      <th>mbid</th>\n",
       "      <th>slr</th>\n",
       "    </tr>\n",
       "  </thead>\n",
       "  <tbody>\n",
       "    <tr>\n",
       "      <th>0</th>\n",
       "      <td>00489b13-99b0-4159-9b29-31d199926a5e</td>\n",
       "      <td>LinearRegression(copy_X=True, fit_intercept=Tr...</td>\n",
       "    </tr>\n",
       "    <tr>\n",
       "      <th>1</th>\n",
       "      <td>00832e6f-c3de-4ef2-af60-35f12d34d563</td>\n",
       "      <td>LinearRegression(copy_X=True, fit_intercept=Tr...</td>\n",
       "    </tr>\n",
       "    <tr>\n",
       "      <th>2</th>\n",
       "      <td>00bc7cfb-709c-4900-9e78-c420d937b1ad</td>\n",
       "      <td>LinearRegression(copy_X=True, fit_intercept=Tr...</td>\n",
       "    </tr>\n",
       "    <tr>\n",
       "      <th>3</th>\n",
       "      <td>00e96621-65ac-459b-ab67-8380ade6e726</td>\n",
       "      <td>LinearRegression(copy_X=True, fit_intercept=Tr...</td>\n",
       "    </tr>\n",
       "    <tr>\n",
       "      <th>4</th>\n",
       "      <td>00fab606-7d8c-4bdd-af99-494124f31274</td>\n",
       "      <td>LinearRegression(copy_X=True, fit_intercept=Tr...</td>\n",
       "    </tr>\n",
       "  </tbody>\n",
       "</table>\n",
       "</div>"
      ],
      "text/plain": [
       "                                   mbid  \\\n",
       "0  00489b13-99b0-4159-9b29-31d199926a5e   \n",
       "1  00832e6f-c3de-4ef2-af60-35f12d34d563   \n",
       "2  00bc7cfb-709c-4900-9e78-c420d937b1ad   \n",
       "3  00e96621-65ac-459b-ab67-8380ade6e726   \n",
       "4  00fab606-7d8c-4bdd-af99-494124f31274   \n",
       "\n",
       "                                                 slr  \n",
       "0  LinearRegression(copy_X=True, fit_intercept=Tr...  \n",
       "1  LinearRegression(copy_X=True, fit_intercept=Tr...  \n",
       "2  LinearRegression(copy_X=True, fit_intercept=Tr...  \n",
       "3  LinearRegression(copy_X=True, fit_intercept=Tr...  \n",
       "4  LinearRegression(copy_X=True, fit_intercept=Tr...  "
      ]
     },
     "execution_count": 19,
     "metadata": {},
     "output_type": "execute_result"
    }
   ],
   "source": [
    "df_mbid = pd.DataFrame(mbid_slr, columns=['mbid', 'slr'])\n",
    "df_mbid.head()"
   ]
  },
  {
   "cell_type": "code",
   "execution_count": 20,
   "metadata": {
    "collapsed": false
   },
   "outputs": [
    {
     "data": {
      "text/plain": [
       "Slope        float64\n",
       "Intercept    float64\n",
       "dtype: object"
      ]
     },
     "execution_count": 20,
     "metadata": {},
     "output_type": "execute_result"
    }
   ],
   "source": [
    "df_slope = pd.DataFrame(inter_slope, columns=['Slope', 'Intercept'])\n",
    "df_slope.head()\n",
    "df_slope.dtypes"
   ]
  },
  {
   "cell_type": "code",
   "execution_count": 21,
   "metadata": {
    "collapsed": false
   },
   "outputs": [
    {
     "data": {
      "text/html": [
       "<div>\n",
       "<table border=\"1\" class=\"dataframe\">\n",
       "  <thead>\n",
       "    <tr style=\"text-align: right;\">\n",
       "      <th></th>\n",
       "      <th>mbid</th>\n",
       "      <th>slr</th>\n",
       "      <th>Slope</th>\n",
       "      <th>Intercept</th>\n",
       "    </tr>\n",
       "  </thead>\n",
       "  <tbody>\n",
       "    <tr>\n",
       "      <th>0</th>\n",
       "      <td>00489b13-99b0-4159-9b29-31d199926a5e</td>\n",
       "      <td>LinearRegression(copy_X=True, fit_intercept=Tr...</td>\n",
       "      <td>0.000000</td>\n",
       "      <td>0.250000</td>\n",
       "    </tr>\n",
       "    <tr>\n",
       "      <th>1</th>\n",
       "      <td>00832e6f-c3de-4ef2-af60-35f12d34d563</td>\n",
       "      <td>LinearRegression(copy_X=True, fit_intercept=Tr...</td>\n",
       "      <td>0.000000</td>\n",
       "      <td>1.000000</td>\n",
       "    </tr>\n",
       "    <tr>\n",
       "      <th>2</th>\n",
       "      <td>00bc7cfb-709c-4900-9e78-c420d937b1ad</td>\n",
       "      <td>LinearRegression(copy_X=True, fit_intercept=Tr...</td>\n",
       "      <td>0.083333</td>\n",
       "      <td>-0.638889</td>\n",
       "    </tr>\n",
       "    <tr>\n",
       "      <th>3</th>\n",
       "      <td>00e96621-65ac-459b-ab67-8380ade6e726</td>\n",
       "      <td>LinearRegression(copy_X=True, fit_intercept=Tr...</td>\n",
       "      <td>0.000000</td>\n",
       "      <td>1.000000</td>\n",
       "    </tr>\n",
       "    <tr>\n",
       "      <th>4</th>\n",
       "      <td>00fab606-7d8c-4bdd-af99-494124f31274</td>\n",
       "      <td>LinearRegression(copy_X=True, fit_intercept=Tr...</td>\n",
       "      <td>0.154762</td>\n",
       "      <td>-1.309524</td>\n",
       "    </tr>\n",
       "    <tr>\n",
       "      <th>5</th>\n",
       "      <td>010bb2c4-fd7f-450d-92eb-cb5f1810884b</td>\n",
       "      <td>LinearRegression(copy_X=True, fit_intercept=Tr...</td>\n",
       "      <td>0.278788</td>\n",
       "      <td>-1.484848</td>\n",
       "    </tr>\n",
       "    <tr>\n",
       "      <th>6</th>\n",
       "      <td>0111319a-e8e0-47c5-a38e-deb11c170852</td>\n",
       "      <td>LinearRegression(copy_X=True, fit_intercept=Tr...</td>\n",
       "      <td>-1.000000</td>\n",
       "      <td>15.000000</td>\n",
       "    </tr>\n",
       "    <tr>\n",
       "      <th>7</th>\n",
       "      <td>014d4180-3657-4aa1-8d09-519a1a000fe8</td>\n",
       "      <td>LinearRegression(copy_X=True, fit_intercept=Tr...</td>\n",
       "      <td>-0.318182</td>\n",
       "      <td>8.818182</td>\n",
       "    </tr>\n",
       "    <tr>\n",
       "      <th>8</th>\n",
       "      <td>01817ed9-22b7-4ebc-bdf4-42f6ef578169</td>\n",
       "      <td>LinearRegression(copy_X=True, fit_intercept=Tr...</td>\n",
       "      <td>-0.004777</td>\n",
       "      <td>0.864650</td>\n",
       "    </tr>\n",
       "    <tr>\n",
       "      <th>9</th>\n",
       "      <td>018b793d-6d28-4ba6-b628-cf7ae995cbec</td>\n",
       "      <td>LinearRegression(copy_X=True, fit_intercept=Tr...</td>\n",
       "      <td>0.000000</td>\n",
       "      <td>0.285714</td>\n",
       "    </tr>\n",
       "  </tbody>\n",
       "</table>\n",
       "</div>"
      ],
      "text/plain": [
       "                                   mbid  \\\n",
       "0  00489b13-99b0-4159-9b29-31d199926a5e   \n",
       "1  00832e6f-c3de-4ef2-af60-35f12d34d563   \n",
       "2  00bc7cfb-709c-4900-9e78-c420d937b1ad   \n",
       "3  00e96621-65ac-459b-ab67-8380ade6e726   \n",
       "4  00fab606-7d8c-4bdd-af99-494124f31274   \n",
       "5  010bb2c4-fd7f-450d-92eb-cb5f1810884b   \n",
       "6  0111319a-e8e0-47c5-a38e-deb11c170852   \n",
       "7  014d4180-3657-4aa1-8d09-519a1a000fe8   \n",
       "8  01817ed9-22b7-4ebc-bdf4-42f6ef578169   \n",
       "9  018b793d-6d28-4ba6-b628-cf7ae995cbec   \n",
       "\n",
       "                                                 slr     Slope  Intercept  \n",
       "0  LinearRegression(copy_X=True, fit_intercept=Tr...  0.000000   0.250000  \n",
       "1  LinearRegression(copy_X=True, fit_intercept=Tr...  0.000000   1.000000  \n",
       "2  LinearRegression(copy_X=True, fit_intercept=Tr...  0.083333  -0.638889  \n",
       "3  LinearRegression(copy_X=True, fit_intercept=Tr...  0.000000   1.000000  \n",
       "4  LinearRegression(copy_X=True, fit_intercept=Tr...  0.154762  -1.309524  \n",
       "5  LinearRegression(copy_X=True, fit_intercept=Tr...  0.278788  -1.484848  \n",
       "6  LinearRegression(copy_X=True, fit_intercept=Tr... -1.000000  15.000000  \n",
       "7  LinearRegression(copy_X=True, fit_intercept=Tr... -0.318182   8.818182  \n",
       "8  LinearRegression(copy_X=True, fit_intercept=Tr... -0.004777   0.864650  \n",
       "9  LinearRegression(copy_X=True, fit_intercept=Tr...  0.000000   0.285714  "
      ]
     },
     "execution_count": 21,
     "metadata": {},
     "output_type": "execute_result"
    }
   ],
   "source": [
    "frames = [df_mbid, df_slope]\n",
    "new_df = pd.concat(frames, axis=1)\n",
    "new_df.head(10)"
   ]
  },
  {
   "cell_type": "code",
   "execution_count": 22,
   "metadata": {
    "collapsed": false
   },
   "outputs": [
    {
     "data": {
      "text/html": [
       "<div>\n",
       "<table border=\"1\" class=\"dataframe\">\n",
       "  <thead>\n",
       "    <tr style=\"text-align: right;\">\n",
       "      <th></th>\n",
       "      <th>mbid</th>\n",
       "      <th>Slope</th>\n",
       "      <th>Intercept</th>\n",
       "    </tr>\n",
       "  </thead>\n",
       "  <tbody>\n",
       "    <tr>\n",
       "      <th>0</th>\n",
       "      <td>00489b13-99b0-4159-9b29-31d199926a5e</td>\n",
       "      <td>0.000000</td>\n",
       "      <td>0.250000</td>\n",
       "    </tr>\n",
       "    <tr>\n",
       "      <th>1</th>\n",
       "      <td>00832e6f-c3de-4ef2-af60-35f12d34d563</td>\n",
       "      <td>0.000000</td>\n",
       "      <td>1.000000</td>\n",
       "    </tr>\n",
       "    <tr>\n",
       "      <th>2</th>\n",
       "      <td>00bc7cfb-709c-4900-9e78-c420d937b1ad</td>\n",
       "      <td>0.083333</td>\n",
       "      <td>-0.638889</td>\n",
       "    </tr>\n",
       "    <tr>\n",
       "      <th>3</th>\n",
       "      <td>00e96621-65ac-459b-ab67-8380ade6e726</td>\n",
       "      <td>0.000000</td>\n",
       "      <td>1.000000</td>\n",
       "    </tr>\n",
       "    <tr>\n",
       "      <th>4</th>\n",
       "      <td>00fab606-7d8c-4bdd-af99-494124f31274</td>\n",
       "      <td>0.154762</td>\n",
       "      <td>-1.309524</td>\n",
       "    </tr>\n",
       "  </tbody>\n",
       "</table>\n",
       "</div>"
      ],
      "text/plain": [
       "                                   mbid     Slope  Intercept\n",
       "0  00489b13-99b0-4159-9b29-31d199926a5e  0.000000   0.250000\n",
       "1  00832e6f-c3de-4ef2-af60-35f12d34d563  0.000000   1.000000\n",
       "2  00bc7cfb-709c-4900-9e78-c420d937b1ad  0.083333  -0.638889\n",
       "3  00e96621-65ac-459b-ab67-8380ade6e726  0.000000   1.000000\n",
       "4  00fab606-7d8c-4bdd-af99-494124f31274  0.154762  -1.309524"
      ]
     },
     "execution_count": 22,
     "metadata": {},
     "output_type": "execute_result"
    }
   ],
   "source": [
    "new_df.drop('slr', 1, inplace=True)\n",
    "new_df.head()"
   ]
  },
  {
   "cell_type": "code",
   "execution_count": 27,
   "metadata": {
    "collapsed": false
   },
   "outputs": [],
   "source": [
    "# Saving the above table to csv file\n",
    "# new_df.to_csv('mbid_s_i.csv', sep=',', encoding='utf-8')"
   ]
  },
  {
   "cell_type": "code",
   "execution_count": 28,
   "metadata": {
    "collapsed": false
   },
   "outputs": [
    {
     "data": {
      "text/html": [
       "<div>\n",
       "<table border=\"1\" class=\"dataframe\">\n",
       "  <thead>\n",
       "    <tr style=\"text-align: right;\">\n",
       "      <th></th>\n",
       "      <th>_id</th>\n",
       "      <th>artist</th>\n",
       "      <th>title</th>\n",
       "      <th>mbid</th>\n",
       "    </tr>\n",
       "  </thead>\n",
       "  <tbody>\n",
       "    <tr>\n",
       "      <th>380</th>\n",
       "      <td>588010500350484481</td>\n",
       "      <td>['Ed Sheeran']</td>\n",
       "      <td>Thinking Out Loud</td>\n",
       "      <td>cb2cc207-8125-445c-9ef9-6ea44eee959a</td>\n",
       "    </tr>\n",
       "  </tbody>\n",
       "</table>\n",
       "</div>"
      ],
      "text/plain": [
       "                    _id          artist              title  \\\n",
       "380  588010500350484481  ['Ed Sheeran']  Thinking Out Loud   \n",
       "\n",
       "                                     mbid  \n",
       "380  cb2cc207-8125-445c-9ef9-6ea44eee959a  "
      ]
     },
     "execution_count": 28,
     "metadata": {},
     "output_type": "execute_result"
    }
   ],
   "source": [
    "one_s = songs[songs.mbid == 'cb2cc207-8125-445c-9ef9-6ea44eee959a']\n",
    "one_s.head()"
   ]
  },
  {
   "cell_type": "code",
   "execution_count": 31,
   "metadata": {
    "collapsed": false
   },
   "outputs": [
    {
     "data": {
      "text/html": [
       "<div>\n",
       "<table border=\"1\" class=\"dataframe\">\n",
       "  <thead>\n",
       "    <tr style=\"text-align: right;\">\n",
       "      <th></th>\n",
       "      <th>mbid</th>\n",
       "      <th>day</th>\n",
       "      <th>mentions</th>\n",
       "    </tr>\n",
       "  </thead>\n",
       "  <tbody>\n",
       "    <tr>\n",
       "      <th>12368</th>\n",
       "      <td>1a58e29e-be4d-4d93-952a-5e8f544e55a7</td>\n",
       "      <td>13</td>\n",
       "      <td>10</td>\n",
       "    </tr>\n",
       "    <tr>\n",
       "      <th>12370</th>\n",
       "      <td>1a58e29e-be4d-4d93-952a-5e8f544e55a7</td>\n",
       "      <td>14</td>\n",
       "      <td>4</td>\n",
       "    </tr>\n",
       "    <tr>\n",
       "      <th>12371</th>\n",
       "      <td>1a58e29e-be4d-4d93-952a-5e8f544e55a7</td>\n",
       "      <td>15</td>\n",
       "      <td>6</td>\n",
       "    </tr>\n",
       "    <tr>\n",
       "      <th>12369</th>\n",
       "      <td>1a58e29e-be4d-4d93-952a-5e8f544e55a7</td>\n",
       "      <td>16</td>\n",
       "      <td>2</td>\n",
       "    </tr>\n",
       "    <tr>\n",
       "      <th>12372</th>\n",
       "      <td>1a58e29e-be4d-4d93-952a-5e8f544e55a7</td>\n",
       "      <td>17</td>\n",
       "      <td>3</td>\n",
       "    </tr>\n",
       "  </tbody>\n",
       "</table>\n",
       "</div>"
      ],
      "text/plain": [
       "                                       mbid  day  mentions\n",
       "12368  1a58e29e-be4d-4d93-952a-5e8f544e55a7   13        10\n",
       "12370  1a58e29e-be4d-4d93-952a-5e8f544e55a7   14         4\n",
       "12371  1a58e29e-be4d-4d93-952a-5e8f544e55a7   15         6\n",
       "12369  1a58e29e-be4d-4d93-952a-5e8f544e55a7   16         2\n",
       "12372  1a58e29e-be4d-4d93-952a-5e8f544e55a7   17         3"
      ]
     },
     "execution_count": 31,
     "metadata": {},
     "output_type": "execute_result"
    }
   ],
   "source": [
    "one_song = sorted_dates[sorted_dates.mbid == '1a58e29e-be4d-4d93-952a-5e8f544e55a7']\n",
    "one_song.head()"
   ]
  },
  {
   "cell_type": "code",
   "execution_count": 32,
   "metadata": {
    "collapsed": false
   },
   "outputs": [
    {
     "data": {
      "text/plain": [
       "<seaborn.axisgrid.FacetGrid at 0xb4933c8>"
      ]
     },
     "execution_count": 32,
     "metadata": {},
     "output_type": "execute_result"
    },
    {
     "data": {
      "image/png": "[encoded data removed]",
      "text/plain": [
       "<matplotlib.figure.Figure at 0xb493518>"
      ]
     },
     "metadata": {},
     "output_type": "display_data"
    }
   ],
   "source": [
    "sns.lmplot('day', 'mentions', data=one_song, ci=None)"
   ]
  },
  {
   "cell_type": "code",
   "execution_count": 34,
   "metadata": {
    "collapsed": false
   },
   "outputs": [
    {
     "data": {
      "text/plain": [
       "<seaborn.axisgrid.FacetGrid at 0xb5749e8>"
      ]
     },
     "execution_count": 34,
     "metadata": {},
     "output_type": "execute_result"
    },
    {
     "data": {
      "image/png": "[encoded data removed]",
      "text/plain": [
       "<matplotlib.figure.Figure at 0xb574780>"
      ]
     },
     "metadata": {},
     "output_type": "display_data"
    }
   ],
   "source": [
    "\n",
    "one_song = sorted_dates[sorted_dates.mbid == 'a0d55631-bcb2-4bd7-8ad2-f981e2b081a7']\n",
    "one_song.head()\n",
    "sns.lmplot('day', 'mentions', data=one_song, ci=None)"
   ]
  },
  {
   "cell_type": "code",
   "execution_count": null,
   "metadata": {
    "collapsed": true
   },
   "outputs": [],
   "source": []
  }
 ],
 "metadata": {
  "kernelspec": {
   "display_name": "Python 3",
   "language": "python",
   "name": "python3"
  },
  "language_info": {
   "codemirror_mode": {
    "name": "ipython",
    "version": 3
   },
   "file_extension": ".py",
   "mimetype": "text/x-python",
   "name": "python",
   "nbconvert_exporter": "python",
   "pygments_lexer": "ipython3",
   "version": "3.4.3"
  }
 },
 "nbformat": 4,
 "nbformat_minor": 0
}
