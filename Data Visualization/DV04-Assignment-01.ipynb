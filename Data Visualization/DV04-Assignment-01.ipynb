{
 "cells": [
  {
   "cell_type": "markdown",
   "metadata": {},
   "source": [
    "# ADS-DV Week 4 Assignment 1\n",
    "\n",
    "# Redesigning a failed chart\n",
    "\n",
    "## Summary\n",
    "In this assignment you will redesign a failed plot, to practice the guidelines and rules for creating plots.\n",
    "\n",
    "## Assignment\n",
    "Find a complex enough chart that seems to have gone wrong in some aspects, e.g. here http://viz.wtf/. If you are unsure about the complexity, ask your teacher. If you think it is hard to start you can read up on how to create infographics in the following document: <a href=\"resources/InfographicsDesignProcess.pdf\">Infographics Design Process</a>.\n",
    "\n",
    "Recreate the plot but make an improved version. You can use fake data if you don't have the actual data. You are allowed to change the chart type. Include both a screenshot of the original and the result of your redesign in your solution.\n",
    "\n",
    "Describe your design process by talking about data types, design rules, visual encoding, use of color and any other consideration you have made.\n",
    "\n",
    "You are allowed to use any tool you think is best suited for the task, e.g. Python, Tableau, Illustrator or even accurate hand-drawings."
   ]
  },
  {
   "cell_type": "markdown",
   "metadata": {
    "collapsed": true
   },
   "source": [
    "## Solution"
   ]
  },
  {
   "cell_type": "markdown",
   "metadata": {
    "collapsed": true
   },
   "source": [
    "The original, found in \"WTF Visualizations\"\n",
    "\n",
    "<img src=\"original.png\">\n",
    "\n",
    "And the result, done in Tableau\n",
    "\n",
    "<img src=\"result-1.jpg\">"
   ]
  },
  {
   "cell_type": "markdown",
   "metadata": {
    "collapsed": true
   },
   "source": [
    "Derived from the website \"WTF Visualizations\", this is the Infograph that we decided to fix:\n",
    "\n",
    "<img src=\"old_infograph.jpg\">\n",
    "\n",
    "After we have created our fake data to make it possible to recreate the infograph, this is our final result. Done with the help of Tableau:\n",
    "\n",
    "<img src=\"DV04-01.jpg\">"
   ]
  },
  {
   "cell_type": "markdown",
   "metadata": {
    "collapsed": false
   },
   "source": [
    "# Description\n",
    "\n",
    "## Bar Charts\n",
    "\n",
    "Bar charts are useful for displaying data that is classified into nominal or ordinal categories. Since our data is nominal, we decided to use Bar charts for most of the graphs. We also aranged the categories so that the bars grade sequentially, from the largest to the smallest category, which will help the reader to interpret that data.\n",
    "\n",
    "Some of the bar charts were placed horizontally, in order to save space and I also find it much easier to read such a bar chart rather than a column chart.\n",
    "\n",
    "Taking into consideration the data-ink ratio rule, we have labeled the bars, which allowed me to remove the x-axis of the horizontal bar charts and y-axis of column chart. Hence, the charts are much cleaner and easier to read.\n",
    "\n",
    "By highlighting and annotatting the outliers, the readers' attention is instantly drown to the most important information. As a color we picked the red saturation because, we think it best fits for the subject of the infographic.\n",
    "\n",
    "## Buble chart\n",
    "\n",
    "A bubble chart is a variation of a scatter chart in which the data points are replaced with bubbles, and an additional dimension of the data is represented in the size of the bubbles.\n",
    "According to the Data-Ink Ration we remove the y-axis and put our \"amount of money\" in the bubbles.We made annotation mark in order to show the highest and lowest amount of money.\n",
    "We took in mind also the visual encodings.Thats why we use double encoding for the size and the color of the bubbles.We did know that we can use less distractive colors like Hue but we want to show the topic and thats why we choose the red saturation."
   ]
  }
 ],
 "metadata": {
  "kernelspec": {
   "display_name": "Python 3",
   "language": "python",
   "name": "python3"
  },
  "language_info": {
   "codemirror_mode": {
    "name": "ipython",
    "version": 3
   },
   "file_extension": ".py",
   "mimetype": "text/x-python",
   "name": "python",
   "nbconvert_exporter": "python",
   "pygments_lexer": "ipython3",
   "version": "3.4.3"
  }
 },
 "nbformat": 4,
 "nbformat_minor": 0
}
