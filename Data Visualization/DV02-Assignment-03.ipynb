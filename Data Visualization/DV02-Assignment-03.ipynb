{
 "cells": [
  {
   "cell_type": "markdown",
   "metadata": {},
   "source": [
    "# ADS-DV Week 2 Assignment 2\n",
    "\n",
    "# Plotting scatter plots and histograms\n",
    "\n",
    "# Summary\n",
    "This assignment first shows you how to download csv data from an online source. Then we're exploring a dataset of all the cities in the world and compare cities in The Netherlands to the rest of the world."
   ]
  },
  {
   "cell_type": "markdown",
   "metadata": {},
   "source": [
    "## Loading data CSV and Pandas\n",
    "\n",
    "While reproducible research recommends having your data somewhere where you know it will not change, it may not be feasible to put large datafiles in your portfolio. We will work with a database of information about cities around the world:\n",
    "\n",
    "https://www.maxmind.com/en/free-world-cities-database\n",
    "\n",
    "Working with data structures can be done in many ways in Python. There are the standard Python arrays, lists and tuples. You can also use the arrays in the numpy package which allow you to do heavy math operations efficiently. For data analysis Pandas is often used, because data can be put into so-called dataframes. Data-frames store data with column and row names and can easily be manipulated and plotted. You will learn more about Pandas in the Machine Learning workshops. A short intro can be found here:\n",
    "\n",
    "http://pandas.pydata.org/pandas-docs/stable/10min.html"
   ]
  },
  {
   "cell_type": "code",
   "execution_count": 1,
   "metadata": {
    "collapsed": false,
    "scrolled": true
   },
   "outputs": [],
   "source": [
    "import urllib.request as urllib, zipfile, os\n",
    "\n",
    "url = 'http://download.maxmind.com/download/worldcities/'\n",
    "filename = 'worldcitiespop.txt.gz'\n",
    "datafolder = 'data/'"
   ]
  },
  {
   "cell_type": "code",
   "execution_count": 2,
   "metadata": {
    "collapsed": false
   },
   "outputs": [],
   "source": [
    "downloaded = urllib.urlopen(url + filename)\n",
    "buf = downloaded.read()\n",
    "\n",
    "with open(datafolder + filename, 'wb') as f:\n",
    "    f.write(buf)\n",
    "    "
   ]
  },
  {
   "cell_type": "code",
   "execution_count": 3,
   "metadata": {
    "collapsed": false
   },
   "outputs": [],
   "source": [
    "import pandas as pd\n",
    "cities = pd.read_csv(datafolder + filename, sep=',', low_memory=False, encoding = 'ISO-8859-1')"
   ]
  },
  {
   "cell_type": "markdown",
   "metadata": {},
   "source": [
    "## Data manipulation\n",
    "\n",
    "We can take a peek at the data by checking out the final rows of data. Do you see any potential problem with this dataset?"
   ]
  },
  {
   "cell_type": "code",
   "execution_count": 4,
   "metadata": {
    "collapsed": false
   },
   "outputs": [
    {
     "data": {
      "text/html": [
       "<div>\n",
       "<table border=\"1\" class=\"dataframe\">\n",
       "  <thead>\n",
       "    <tr style=\"text-align: right;\">\n",
       "      <th></th>\n",
       "      <th>Country</th>\n",
       "      <th>City</th>\n",
       "      <th>AccentCity</th>\n",
       "      <th>Region</th>\n",
       "      <th>Population</th>\n",
       "      <th>Latitude</th>\n",
       "      <th>Longitude</th>\n",
       "    </tr>\n",
       "  </thead>\n",
       "  <tbody>\n",
       "    <tr>\n",
       "      <th>3173953</th>\n",
       "      <td>zw</td>\n",
       "      <td>zimre park</td>\n",
       "      <td>Zimre Park</td>\n",
       "      <td>04</td>\n",
       "      <td>NaN</td>\n",
       "      <td>-17.866111</td>\n",
       "      <td>31.213611</td>\n",
       "    </tr>\n",
       "    <tr>\n",
       "      <th>3173954</th>\n",
       "      <td>zw</td>\n",
       "      <td>ziyakamanas</td>\n",
       "      <td>Ziyakamanas</td>\n",
       "      <td>00</td>\n",
       "      <td>NaN</td>\n",
       "      <td>-18.216667</td>\n",
       "      <td>27.950000</td>\n",
       "    </tr>\n",
       "    <tr>\n",
       "      <th>3173955</th>\n",
       "      <td>zw</td>\n",
       "      <td>zizalisari</td>\n",
       "      <td>Zizalisari</td>\n",
       "      <td>04</td>\n",
       "      <td>NaN</td>\n",
       "      <td>-17.758889</td>\n",
       "      <td>31.010556</td>\n",
       "    </tr>\n",
       "    <tr>\n",
       "      <th>3173956</th>\n",
       "      <td>zw</td>\n",
       "      <td>zuzumba</td>\n",
       "      <td>Zuzumba</td>\n",
       "      <td>06</td>\n",
       "      <td>NaN</td>\n",
       "      <td>-20.033333</td>\n",
       "      <td>27.933333</td>\n",
       "    </tr>\n",
       "    <tr>\n",
       "      <th>3173957</th>\n",
       "      <td>zw</td>\n",
       "      <td>zvishavane</td>\n",
       "      <td>Zvishavane</td>\n",
       "      <td>07</td>\n",
       "      <td>79876</td>\n",
       "      <td>-20.333333</td>\n",
       "      <td>30.033333</td>\n",
       "    </tr>\n",
       "  </tbody>\n",
       "</table>\n",
       "</div>"
      ],
      "text/plain": [
       "        Country         City   AccentCity Region  Population   Latitude  \\\n",
       "3173953      zw   zimre park   Zimre Park     04         NaN -17.866111   \n",
       "3173954      zw  ziyakamanas  Ziyakamanas     00         NaN -18.216667   \n",
       "3173955      zw   zizalisari   Zizalisari     04         NaN -17.758889   \n",
       "3173956      zw      zuzumba      Zuzumba     06         NaN -20.033333   \n",
       "3173957      zw   zvishavane   Zvishavane     07       79876 -20.333333   \n",
       "\n",
       "         Longitude  \n",
       "3173953  31.213611  \n",
       "3173954  27.950000  \n",
       "3173955  31.010556  \n",
       "3173956  27.933333  \n",
       "3173957  30.033333  "
      ]
     },
     "execution_count": 4,
     "metadata": {},
     "output_type": "execute_result"
    }
   ],
   "source": [
    "cities.tail()"
   ]
  },
  {
   "cell_type": "code",
   "execution_count": 5,
   "metadata": {
    "collapsed": false
   },
   "outputs": [
    {
     "data": {
      "text/html": [
       "<div>\n",
       "<table border=\"1\" class=\"dataframe\">\n",
       "  <thead>\n",
       "    <tr style=\"text-align: right;\">\n",
       "      <th></th>\n",
       "      <th>Country</th>\n",
       "      <th>City</th>\n",
       "      <th>AccentCity</th>\n",
       "      <th>Region</th>\n",
       "      <th>Population</th>\n",
       "      <th>Latitude</th>\n",
       "      <th>Longitude</th>\n",
       "    </tr>\n",
       "  </thead>\n",
       "  <tbody>\n",
       "    <tr>\n",
       "      <th>1544449</th>\n",
       "      <td>jp</td>\n",
       "      <td>tokyo</td>\n",
       "      <td>Tokyo</td>\n",
       "      <td>40</td>\n",
       "      <td>31480498</td>\n",
       "      <td>35.685000</td>\n",
       "      <td>139.751389</td>\n",
       "    </tr>\n",
       "    <tr>\n",
       "      <th>570824</th>\n",
       "      <td>cn</td>\n",
       "      <td>shanghai</td>\n",
       "      <td>Shanghai</td>\n",
       "      <td>23</td>\n",
       "      <td>14608512</td>\n",
       "      <td>31.045556</td>\n",
       "      <td>121.399722</td>\n",
       "    </tr>\n",
       "    <tr>\n",
       "      <th>1327914</th>\n",
       "      <td>in</td>\n",
       "      <td>bombay</td>\n",
       "      <td>Bombay</td>\n",
       "      <td>16</td>\n",
       "      <td>12692717</td>\n",
       "      <td>18.975000</td>\n",
       "      <td>72.825833</td>\n",
       "    </tr>\n",
       "    <tr>\n",
       "      <th>2200161</th>\n",
       "      <td>pk</td>\n",
       "      <td>karachi</td>\n",
       "      <td>Karachi</td>\n",
       "      <td>05</td>\n",
       "      <td>11627378</td>\n",
       "      <td>24.905600</td>\n",
       "      <td>67.082200</td>\n",
       "    </tr>\n",
       "    <tr>\n",
       "      <th>1349146</th>\n",
       "      <td>in</td>\n",
       "      <td>new delhi</td>\n",
       "      <td>New Delhi</td>\n",
       "      <td>07</td>\n",
       "      <td>10928270</td>\n",
       "      <td>28.600000</td>\n",
       "      <td>77.200000</td>\n",
       "    </tr>\n",
       "  </tbody>\n",
       "</table>\n",
       "</div>"
      ],
      "text/plain": [
       "        Country       City AccentCity Region  Population   Latitude  \\\n",
       "1544449      jp      tokyo      Tokyo     40    31480498  35.685000   \n",
       "570824       cn   shanghai   Shanghai     23    14608512  31.045556   \n",
       "1327914      in     bombay     Bombay     16    12692717  18.975000   \n",
       "2200161      pk    karachi    Karachi     05    11627378  24.905600   \n",
       "1349146      in  new delhi  New Delhi     07    10928270  28.600000   \n",
       "\n",
       "          Longitude  \n",
       "1544449  139.751389  \n",
       "570824   121.399722  \n",
       "1327914   72.825833  \n",
       "2200161   67.082200  \n",
       "1349146   77.200000  "
      ]
     },
     "execution_count": 5,
     "metadata": {},
     "output_type": "execute_result"
    }
   ],
   "source": [
    "cities.sort(columns='Population', ascending=False).head()"
   ]
  },
  {
   "cell_type": "markdown",
   "metadata": {},
   "source": [
    "By sorting the cities on population we immediately see the entries of a few of the largest cities in the world.\n",
    "\n",
    "## Assignment A\n",
    "To get an idea of where in the world the cities in the dataset are located, we want to make a scatter plot of the position of all the cities in the dataset.\n",
    "\n",
    "Don't worry about drawing country borders, just plot the locations of the cities.\n",
    "\n",
    "Remember to use all the basic plot elements you need to understand this plot."
   ]
  },
  {
   "cell_type": "code",
   "execution_count": 6,
   "metadata": {
    "collapsed": false
   },
   "outputs": [
    {
     "data": {
      "text/plain": [
       "<matplotlib.figure.Figure at 0x480feb8>"
      ]
     },
     "metadata": {},
     "output_type": "display_data"
    }
   ],
   "source": [
    "import numpy as np\n",
    "from matplotlib import pyplot as plt\n",
    "%matplotlib inline \n",
    "\n",
    "plt.figure();"
   ]
  },
  {
   "cell_type": "markdown",
   "metadata": {},
   "source": [
    "## Assignment B\n",
    "\n",
    "Now we want to plot the cities in The Netherlands only. Use a scatter plot again to plot the cities, but now vary the size of the marker and the color with the population of that city.\n",
    "\n",
    "Use a colorbar to show how the color of the marker relates to its population.\n",
    "\n",
    "Use sensible limits to your axes so that you show only mainland The Netherlands (and not the Dutch Antilles)."
   ]
  },
  {
   "cell_type": "code",
   "execution_count": 7,
   "metadata": {
    "collapsed": false
   },
   "outputs": [
    {
     "data": {
      "text/plain": [
       "<matplotlib.figure.Figure at 0xc899710>"
      ]
     },
     "metadata": {},
     "output_type": "display_data"
    }
   ],
   "source": [
    "\n",
    "dutch_cities = cities[ cities['Country'] =='nl' ]\n",
    "plt.figure(figsize=[7,7]);"
   ]
  },
  {
   "cell_type": "markdown",
   "metadata": {},
   "source": [
    "## Assignment C\n",
    "\n",
    "Using assignment B, we could clearly see larger cities such as Amsterdam, Rotterdam and even Eindhoven. But we still do not really have a clear overview of how many big cities there are. To show a distribution we use a histogram plot.\n",
    "\n",
    "What happens if we do not call the .dropna() function?\n",
    "\n",
    "Add proper basic plot elements to this plot and try to annotate which data point is Amsterdam and Eindhoven."
   ]
  },
  {
   "cell_type": "code",
   "execution_count": 8,
   "metadata": {
    "collapsed": false
   },
   "outputs": [
    {
     "data": {
      "image/png": "[encoded data removed]",
      "text/plain": [
       "<matplotlib.figure.Figure at 0xc8a7048>"
      ]
     },
     "metadata": {},
     "output_type": "display_data"
    }
   ],
   "source": [
    "plt.figure();\n",
    "plt.hist(np.asarray(dutch_cities.dropna().Population/1000), 100, normed=1);"
   ]
  },
  {
   "cell_type": "markdown",
   "metadata": {},
   "source": [
    "## Assignment D\n",
    "\n",
    "Now we want to compare how the distribution of Dutch cities compares to that of the entire world.\n",
    "\n",
    "Use subplots to show the dutch distribution (top plot) and the world distribution (bottom plot)."
   ]
  },
  {
   "cell_type": "code",
   "execution_count": 9,
   "metadata": {
    "collapsed": false
   },
   "outputs": [
    {
     "data": {
      "text/plain": [
       "(array([ 0.        ,  0.00324675,  0.        ,  0.        ,  0.00324675,\n",
       "         0.        ,  0.        ,  0.        ,  0.00324675,  0.01298701,\n",
       "         0.02272727,  0.04545455,  0.0487013 ,  0.03246753,  0.02597403,\n",
       "         0.02922078,  0.03571429,  0.0487013 ,  0.04220779,  0.03571429,\n",
       "         0.02597403,  0.01623377,  0.03896104,  0.02922078,  0.01948052,\n",
       "         0.01948052,  0.03896104,  0.00974026,  0.01948052,  0.01948052,\n",
       "         0.00324675,  0.01623377,  0.01623377,  0.00974026,  0.00974026,\n",
       "         0.01298701,  0.01298701,  0.01623377,  0.00324675,  0.00649351,\n",
       "         0.01298701,  0.00974026,  0.01298701,  0.01623377,  0.00324675,\n",
       "         0.01298701,  0.00649351,  0.00324675,  0.00649351,  0.00974026,\n",
       "         0.        ,  0.00974026,  0.        ,  0.00324675,  0.00324675,\n",
       "         0.        ,  0.        ,  0.        ,  0.00324675,  0.00324675,\n",
       "         0.00324675,  0.        ,  0.00324675,  0.00324675,  0.00324675,\n",
       "         0.        ,  0.00324675,  0.00324675,  0.00324675,  0.00324675,\n",
       "         0.00324675,  0.00324675,  0.00324675,  0.00324675,  0.00324675,\n",
       "         0.        ,  0.00649351,  0.00324675,  0.00324675,  0.        ,\n",
       "         0.00324675,  0.00324675,  0.00324675,  0.00324675,  0.        ,\n",
       "         0.        ,  0.        ,  0.00324675,  0.00324675,  0.        ,\n",
       "         0.        ,  0.00324675,  0.00324675,  0.00649351,  0.        ,\n",
       "         0.        ,  0.        ,  0.        ,  0.00324675,  0.        ,\n",
       "         0.        ,  0.        ,  0.        ,  0.        ,  0.        ,\n",
       "         0.        ,  0.00324675,  0.        ,  0.        ,  0.        ,\n",
       "         0.        ,  0.        ,  0.00324675,  0.        ,  0.00649351,\n",
       "         0.        ,  0.00324675,  0.        ,  0.        ,  0.        ,\n",
       "         0.        ,  0.00324675,  0.00324675,  0.        ,  0.        ,\n",
       "         0.        ,  0.        ,  0.        ,  0.        ,  0.        ,\n",
       "         0.        ,  0.00324675,  0.        ,  0.        ,  0.        ,\n",
       "         0.        ,  0.        ,  0.        ,  0.        ,  0.00324675,\n",
       "         0.        ,  0.00324675,  0.        ,  0.        ,  0.00324675,\n",
       "         0.        ,  0.        ,  0.00324675,  0.        ,  0.        ,\n",
       "         0.        ,  0.        ,  0.        ,  0.        ,  0.00324675,\n",
       "         0.        ,  0.        ,  0.00324675,  0.00324675,  0.        ,\n",
       "         0.        ,  0.        ,  0.        ,  0.        ,  0.        ,\n",
       "         0.        ,  0.        ,  0.        ,  0.00324675,  0.        ,\n",
       "         0.        ,  0.        ,  0.        ,  0.        ,  0.        ,\n",
       "         0.        ,  0.        ,  0.        ,  0.        ,  0.00324675,\n",
       "         0.        ,  0.        ,  0.        ,  0.        ,  0.        ,\n",
       "         0.        ,  0.00324675,  0.        ,  0.        ,  0.        ,\n",
       "         0.        ,  0.        ,  0.        ,  0.        ,  0.        ,\n",
       "         0.        ,  0.        ,  0.        ,  0.        ]),\n",
       " array([  0,   1,   2,   3,   4,   5,   6,   7,   8,   9,  10,  11,  12,\n",
       "         13,  14,  15,  16,  17,  18,  19,  20,  21,  22,  23,  24,  25,\n",
       "         26,  27,  28,  29,  30,  31,  32,  33,  34,  35,  36,  37,  38,\n",
       "         39,  40,  41,  42,  43,  44,  45,  46,  47,  48,  49,  50,  51,\n",
       "         52,  53,  54,  55,  56,  57,  58,  59,  60,  61,  62,  63,  64,\n",
       "         65,  66,  67,  68,  69,  70,  71,  72,  73,  74,  75,  76,  77,\n",
       "         78,  79,  80,  81,  82,  83,  84,  85,  86,  87,  88,  89,  90,\n",
       "         91,  92,  93,  94,  95,  96,  97,  98,  99, 100, 101, 102, 103,\n",
       "        104, 105, 106, 107, 108, 109, 110, 111, 112, 113, 114, 115, 116,\n",
       "        117, 118, 119, 120, 121, 122, 123, 124, 125, 126, 127, 128, 129,\n",
       "        130, 131, 132, 133, 134, 135, 136, 137, 138, 139, 140, 141, 142,\n",
       "        143, 144, 145, 146, 147, 148, 149, 150, 151, 152, 153, 154, 155,\n",
       "        156, 157, 158, 159, 160, 161, 162, 163, 164, 165, 166, 167, 168,\n",
       "        169, 170, 171, 172, 173, 174, 175, 176, 177, 178, 179, 180, 181,\n",
       "        182, 183, 184, 185, 186, 187, 188, 189, 190, 191, 192, 193, 194,\n",
       "        195, 196, 197, 198, 199]),\n",
       " <a list of 199 Patch objects>)"
      ]
     },
     "execution_count": 9,
     "metadata": {},
     "output_type": "execute_result"
    },
    {
     "data": {
      "image/png": "[encoded data removed]",
      "text/plain": [
       "<matplotlib.figure.Figure at 0xca949e8>"
      ]
     },
     "metadata": {},
     "output_type": "display_data"
    }
   ],
   "source": [
    "plt.figure(figsize=[20, 8]);\n",
    "plt.subplot(2,1,1);\n",
    "plt.hist(np.asarray(dutch_cities.dropna().Population/1000), bins=np.arange(0, 200, 1), normed=1);\n",
    "## add the subplot of the world cities below this Dutch one"
   ]
  },
  {
   "cell_type": "code",
   "execution_count": null,
   "metadata": {
    "collapsed": true
   },
   "outputs": [],
   "source": []
  },
  {
   "cell_type": "markdown",
   "metadata": {},
   "source": [
    "## Assignment E\n",
    "\n",
    "Write what conclusions you can deduce from the above plots?"
   ]
  }
 ],
 "metadata": {
  "kernelspec": {
   "display_name": "Python 3",
   "language": "python",
   "name": "python3"
  },
  "language_info": {
   "codemirror_mode": {
    "name": "ipython",
    "version": 3
   },
   "file_extension": ".py",
   "mimetype": "text/x-python",
   "name": "python",
   "nbconvert_exporter": "python",
   "pygments_lexer": "ipython3",
   "version": "3.4.3"
  }
 },
 "nbformat": 4,
 "nbformat_minor": 0
}
